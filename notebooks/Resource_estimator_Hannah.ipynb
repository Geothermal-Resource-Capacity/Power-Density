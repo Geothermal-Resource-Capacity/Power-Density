{
 "cells": [
  {
   "cell_type": "markdown",
   "metadata": {},
   "source": [
    "# Geothermal Power Capacity Reserve Estimation"
   ]
  },
  {
   "cell_type": "code",
   "execution_count": 203,
   "metadata": {},
   "outputs": [
    {
     "name": "stdout",
     "output_type": "stream",
     "text": [
      "3.8.5\n"
     ]
    }
   ],
   "source": [
    "from platform import python_version\n",
    "print(python_version())"
   ]
  },
  {
   "cell_type": "code",
   "execution_count": 204,
   "metadata": {},
   "outputs": [],
   "source": [
    "# Import libraries\n",
    "import numpy as np\n",
    "import scipy\n",
    "from scipy.stats import norm, lognorm\n",
    "import matplotlib.pyplot as plt"
   ]
  },
  {
   "cell_type": "markdown",
   "metadata": {},
   "source": [
    "### Appraisal and Development: *Assuming it's there, how big is it?*"
   ]
  },
  {
   "cell_type": "code",
   "execution_count": 260,
   "metadata": {},
   "outputs": [],
   "source": [
    "# USER INPUT REQUIRED\n",
    "Tmax = 280 #startup averages temperature for P90 reserves (degrees C)\n",
    "Tmin = 250 #minimum temperature for the P10 reservoir (degrees C)"
   ]
  },
  {
   "cell_type": "code",
   "execution_count": 261,
   "metadata": {},
   "outputs": [],
   "source": [
    "# USER INPUT REQUIRED\n",
    "# Area in km2 above the minimum temperature\n",
    "Area_P90 = 1\n",
    "Area_P10 = 10"
   ]
  },
  {
   "cell_type": "code",
   "execution_count": 265,
   "metadata": {},
   "outputs": [],
   "source": [
    "# USER INPUT REQUIRED\n",
    "# Power Density in (MWe/km2) within the P90 and P10 temperatures (Tmin and Tmax as specified by user)\n",
    "PowerDens_P90 = 10\n",
    "PowerDens_P10 = 24"
   ]
  },
  {
   "cell_type": "code",
   "execution_count": 263,
   "metadata": {},
   "outputs": [],
   "source": [
    "def Expected_development_size(area_p90, area_p10, powerdens_p90, powerdens_p10):\n",
    "    \n",
    "    ''' Calculate and plot the cumulative distribution function for expected development size'''\n",
    "\n",
    "    #### Calculate nu and sigma (the mean and variance in log units required for specifying lognormal distributions) ####\n",
    "    \n",
    "    # nu and sigma for area\n",
    "    area_nu = ((np.log(area_p90)+np.log(area_p10))/2)\n",
    "    area_sigma = (np.log(area_p10)-np.log(area_p90))/((norm.ppf(0.9)-(norm.ppf(0.1))))\n",
    "    \n",
    "    # nu and sigma for power density\n",
    "    powerdens_nu = ((np.log(powerdens_p90)+np.log(powerdens_p10))/2)\n",
    "    powerdens_sigma = (np.log(powerdens_p10)-np.log(powerdens_p90))/((norm.ppf(0.9)-(norm.ppf(0.1))))\n",
    "    \n",
    "    # nu and sigma for MWe Capacity\n",
    "    capacity_nu = area_nu + powerdens_nu\n",
    "    capacity_sigma = ((area_sigma**2)+(powerdens_sigma**2))**0.5\n",
    "    \n",
    "    \n",
    "    #### Calculate cumulative confidence curve for expected development size ####\n",
    "\n",
    "    prob = [0.1]\n",
    "    prob_desc = []\n",
    "    expected_development_size_cdf=[]\n",
    "\n",
    "    # Specify probability range\n",
    "    for i in range(1,100):\n",
    "        prob.append(i)\n",
    "\n",
    "    for j in prob:\n",
    "    \n",
    "        # Calculate 100-prob for plotting descending cumulative probability\n",
    "        desc = 100-j\n",
    "        prob_desc.append(desc)   \n",
    "    \n",
    "        # Calculate expected development size distribution\n",
    "        eds_cdf = lognorm.ppf(j/100, capacity_sigma, loc=0, scale=np.exp(capacity_nu))\n",
    "        expected_development_size_cdf.append(eds_cdf)\n",
    "        \n",
    "        \n",
    "    #### Plot expected development size cumulative distribution ####\n",
    "\n",
    "    plt.plot(expected_development_size_cdf, prob_desc)\n",
    "    plt.xlabel(\"Expected Development Size (MW)\")\n",
    "    plt.ylabel(\"Cumulative Confidence %\")\n",
    "    plt.title(\"Cumulative Confidence in Developed Reservoir Size\")\n",
    "    #axs[0].set_xlim([0, 350])\n",
    "    plt.ylim([10, 100]) \n"
   ]
  },
  {
   "cell_type": "code",
   "execution_count": 266,
   "metadata": {},
   "outputs": [
    {
     "data": {
      "image/png": "[encoded data removed]",
      "text/plain": [
       "<Figure size 432x288 with 1 Axes>"
      ]
     },
     "metadata": {
      "needs_background": "light"
     },
     "output_type": "display_data"
    }
   ],
   "source": [
    "Expected_development_size(Area_P90, Area_P10, PowerDens_P90, PowerDens_P10)"
   ]
  },
  {
   "cell_type": "markdown",
   "metadata": {},
   "source": [
    "### Exploration: *Is it there?*"
   ]
  },
  {
   "cell_type": "code",
   "execution_count": 270,
   "metadata": {},
   "outputs": [],
   "source": [
    "# USER INPUT REQUIRED\n",
    "Ptemp = 0.8\n",
    "Pperm = 0.4\n",
    "Pchem = 0.5"
   ]
  },
  {
   "cell_type": "code",
   "execution_count": 271,
   "metadata": {},
   "outputs": [
    {
     "name": "stdout",
     "output_type": "stream",
     "text": [
      "Probability of exploration success = 16%\n"
     ]
    }
   ],
   "source": [
    "POSexpl = Ptemp * Pperm * Pchem\n",
    "print(\"Probability of exploration success = {:.0f}%\".format(POSexpl*100))\n",
    "# Could potentially code in user option to adjust number of decimal places for POS"
   ]
  },
  {
   "cell_type": "markdown",
   "metadata": {},
   "source": [
    "#### Expected Power Capacity\n",
    "\n",
    "Expected power capacity = expected development size * POSexpl"
   ]
  },
  {
   "cell_type": "code",
   "execution_count": 272,
   "metadata": {},
   "outputs": [],
   "source": [
    "def Expected_power_capacity(area_p90, area_p10, powerdens_p90, powerdens_p10, posexpl):\n",
    "    \n",
    "    ''' Calculate and plot the cumulative distribution function for expected power capacity\n",
    "    \n",
    "    Expected power capacity = expected development size * POSexpl\n",
    "    '''\n",
    "\n",
    "    #### Calculate nu and sigma (the mean and variance in log units required for specifying lognormal distributions) ####\n",
    "    \n",
    "    # nu and sigma for area\n",
    "    area_nu = ((np.log(area_p90)+np.log(area_p10))/2)\n",
    "    area_sigma = (np.log(area_p10)-np.log(area_p90))/((norm.ppf(0.9)-(norm.ppf(0.1))))\n",
    "    \n",
    "    # nu and sigma for power density\n",
    "    powerdens_nu = ((np.log(powerdens_p90)+np.log(powerdens_p10))/2)\n",
    "    powerdens_sigma = (np.log(powerdens_p10)-np.log(powerdens_p90))/((norm.ppf(0.9)-(norm.ppf(0.1))))\n",
    "    \n",
    "    # nu and sigma for MWe Capacity\n",
    "    capacity_nu = area_nu + powerdens_nu\n",
    "    capacity_sigma = ((area_sigma**2)+(powerdens_sigma**2))**0.5\n",
    "    \n",
    "    \n",
    "    #### Calculate cumulative confidence curve for expected power capacity ####\n",
    "\n",
    "    prob = [0.1]\n",
    "    prob_desc = []\n",
    "    expected_development_size_cdf=[]\n",
    "\n",
    "    # Specify probability range\n",
    "    for i in range(1,100):\n",
    "        prob.append(i)\n",
    "\n",
    "    for j in prob:\n",
    "    \n",
    "        # Calculate 100-prob for plotting descending cumulative probability\n",
    "        desc = 100-j\n",
    "        prob_desc.append(desc)   \n",
    "    \n",
    "        # Calculate expected power capacity\n",
    "        eds_cdf = lognorm.ppf(j/100, capacity_sigma, loc=0, scale=np.exp(capacity_nu))*posexpl\n",
    "        expected_development_size_cdf.append(eds_cdf)\n",
    "        \n",
    "\n",
    "    # Plot power capacity cumulative distribution\n",
    "    plt.plot(expected_power_capacity, prob_desc)\n",
    "    plt.xlabel(\"Expected Power Capacity (MWe potential reserves)\")\n",
    "    plt.ylabel(\"Cumulative Confidence %\")\n",
    "    plt.title(\"Cumulative Confidence in Power Capacity\")\n",
    "    #axs[0].set_xlim([0, 350])\n",
    "    plt.ylim([10, 100]) \n"
   ]
  },
  {
   "cell_type": "code",
   "execution_count": 273,
   "metadata": {},
   "outputs": [
    {
     "data": {
      "image/png": "[encoded data removed]",
      "text/plain": [
       "<Figure size 432x288 with 1 Axes>"
      ]
     },
     "metadata": {
      "needs_background": "light"
     },
     "output_type": "display_data"
    }
   ],
   "source": [
    "Expected_power_capacity(Area_P90, Area_P10, PowerDens_P90, PowerDens_P10, POSexpl)"
   ]
  },
  {
   "cell_type": "code",
   "execution_count": null,
   "metadata": {},
   "outputs": [],
   "source": []
  }
 ],
 "metadata": {
  "kernelspec": {
   "display_name": "Python 3",
   "language": "python",
   "name": "python3"
  },
  "language_info": {
   "codemirror_mode": {
    "name": "ipython",
    "version": 3
   },
   "file_extension": ".py",
   "mimetype": "text/x-python",
   "name": "python",
   "nbconvert_exporter": "python",
   "pygments_lexer": "ipython3",
   "version": "3.8.5"
  }
 },
 "nbformat": 4,
 "nbformat_minor": 4
}
