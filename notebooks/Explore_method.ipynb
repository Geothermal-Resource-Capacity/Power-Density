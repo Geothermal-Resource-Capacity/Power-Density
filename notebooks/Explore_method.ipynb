{
 "cells": [
  {
   "cell_type": "markdown",
   "metadata": {},
   "source": [
    "The purpose of this method is just to explore the method and consider (A) how more advanced users may interact and (B) how sensitivity testing may work"
   ]
  },
  {
   "cell_type": "code",
   "execution_count": 8,
   "metadata": {},
   "outputs": [],
   "source": [
    "# Import libraries\n",
    "import numpy as np\n",
    "import scipy\n",
    "from scipy.stats import norm, lognorm\n",
    "import matplotlib.pyplot as plt\n",
    "import pandas as pd\n"
   ]
  },
  {
   "cell_type": "code",
   "execution_count": 11,
   "metadata": {},
   "outputs": [],
   "source": [
    "def calculate_cumulative_conf(areaP90: float=1., areaP10: float=10., pdP90: float=10., pdP10: float=24):\n",
    "    \"\"\"Calculate cumulative confidence level for expected development size in MW\n",
    "\n",
    "    Args:\n",
    "        areaP90 (float): pessimistic area in sqkm\n",
    "        areaP10 (float): optimistic area in sqkm\n",
    "        pdP90 (float): pessimistic power density in MWe/sqkm\n",
    "        pdP10 (float): optimistic power density in MWe/sqkm\n",
    "\n",
    "    Returns:\n",
    "        prob_df (pandas Dataframe): cumulative confidence curve in Reservoir Size\n",
    "    \"\"\"\n",
    "    # calculate area > 250 °C\n",
    "    area_mu = ((np.log(areaP90)+np.log(areaP10))/2)\n",
    "    area_sigma = (np.log(areaP10)-np.log(areaP90))/((norm.ppf(0.9)-(norm.ppf(0.1))))\n",
    "\n",
    "    # calculate powerdensity mean and standard dev\n",
    "    powerdens_mu = ((np.log(pdP90)+np.log(pdP10))/2)\n",
    "    powerdens_sigma = (np.log(pdP10)-np.log(pdP90))/((norm.ppf(0.9)-(norm.ppf(0.1))))\n",
    "\n",
    "\n",
    "    capacity_mu = area_mu + powerdens_mu\n",
    "    capacity_sigma = ((area_sigma**2)+(powerdens_sigma**2))**0.5\n",
    "    eds = [lognorm.ppf(x/100, capacity_sigma, loc=0, scale=np.exp(capacity_mu)) for x in range(0,100)]\n",
    "    indx = list(np.arange(1,101)[::-1])\n",
    "    #edsepc_tups = list(zip(indx,eds))\n",
    "    #prob_df = pd.DataFrame(edsepc_tups, columns = ['Cumulative confidence (%)', 'expected development size (MW)'])\n",
    "\n",
    "    return indx, eds "
   ]
  },
  {
   "cell_type": "code",
   "execution_count": 12,
   "metadata": {},
   "outputs": [
    {
     "name": "stdout",
     "output_type": "stream",
     "text": [
      "[100, 99, 98, 97, 96, 95, 94, 93, 92, 91, 90, 89, 88, 87, 86, 85, 84, 83, 82, 81, 80, 79, 78, 77, 76, 75, 74, 73, 72, 71, 70, 69, 68, 67, 66, 65, 64, 63, 62, 61, 60, 59, 58, 57, 56, 55, 54, 53, 52, 51, 50, 49, 48, 47, 46, 45, 44, 43, 42, 41, 40, 39, 38, 37, 36, 35, 34, 33, 32, 31, 30, 29, 28, 27, 26, 25, 24, 23, 22, 21, 20, 19, 18, 17, 16, 15, 14, 13, 12, 11, 10, 9, 8, 7, 6, 5, 4, 3, 2, 1] [0.0, 13.205802809105366, 15.398540422404356, 16.97492745638696, 18.26627158707802, 19.388798971870724, 20.398429154711877, 21.32684404003433, 22.193928613581523, 23.01307999246934, 23.79380841683307, 24.543142684249247, 25.26644756481281, 25.967927359395958, 26.65095080535273, 27.318268857382407, 27.97216540859641, 28.614564484255748, 29.247108295776485, 29.871215259155477, 30.488123913094448, 31.098926708651156, 31.70459639044439, 32.30600687092003, 32.90394995178081, 33.49914887311694, 34.09226941115389, 34.683929062098905, 35.27470471800395, 35.86513914490493, 36.45574650307342, 37.04701709678195, 37.63942150153769, 38.23341418679028, 38.829436729194015, 39.42792069383156, 40.029290247104186, 40.63396455432462, 41.24236000672358, 41.85489231608596, 42.471978510185636, 43.09403885830252, 43.72149875316524, 44.35479057350974, 44.99435554995711, 45.6406456560097, 46.29412554558258, 46.9552745585921, 47.62458881669667, 48.302583432326195, 48.98979485566357, 49.686783386286045, 50.39413587878761, 51.11246867495607, 51.84243079906303, 52.58470745766021, 53.340023891114235, 54.1091496311419, 54.892903227070896, 55.69215751374428, 56.5078455062891, 57.34096702185557, 58.19259614650417, 59.0638896874406, 59.956096777749444, 60.870569833916626, 61.80877710738344, 62.77231712226227, 63.762935354943046, 64.78254359130236, 65.83324249848148, 66.91734807728884, 68.03742282710188, 69.1963126698531, 70.39719096009483, 71.64361127771816, 72.93957119182005, 74.28958984591623, 75.69880311497512, 77.17308132477653, 78.7191762550275, 80.34490659915166, 82.05939458112442, 83.87337159440341, 85.79957843601312, 87.85329745927264, 90.05307230982434, 92.42170030684449, 94.98763108045108, 97.78698803475646, 100.86657663016679, 104.28851769451815, 108.13768223672334, 112.53423129529939, 117.65611860585938, 123.78280900647434, 131.38970306878687, 141.38499302375396, 155.85892780513672, 181.7382884397764]\n"
     ]
    }
   ],
   "source": [
    "index, estimate = calculate_cumulative_conf(2, 8, 10, 15)\n",
    "print(index, estimate)"
   ]
  },
  {
   "cell_type": "code",
   "execution_count": null,
   "metadata": {},
   "outputs": [],
   "source": []
  }
 ],
 "metadata": {
  "interpreter": {
   "hash": "c582afbba782c21e9b53adc4389234bd88ba080393bd7d8b012d9080c2a82aeb"
  },
  "kernelspec": {
   "display_name": "Python 3.8.8 ('base')",
   "language": "python",
   "name": "python3"
  },
  "language_info": {
   "codemirror_mode": {
    "name": "ipython",
    "version": 3
   },
   "file_extension": ".py",
   "mimetype": "text/x-python",
   "name": "python",
   "nbconvert_exporter": "python",
   "pygments_lexer": "ipython3",
   "version": "3.8.8"
  },
  "orig_nbformat": 4
 },
 "nbformat": 4,
 "nbformat_minor": 2
}
