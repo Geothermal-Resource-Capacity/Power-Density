{
 "metadata": {
  "language_info": {
   "codemirror_mode": {
    "name": "ipython",
    "version": 3
   },
   "file_extension": ".py",
   "mimetype": "text/x-python",
   "name": "python",
   "nbconvert_exporter": "python",
   "pygments_lexer": "ipython3",
   "version": "3.8.8"
  },
  "orig_nbformat": 2,
  "kernelspec": {
   "name": "python3",
   "display_name": "Python 3.8.8 64-bit ('base': conda)"
  },
  "interpreter": {
   "hash": "dca0ade3e726a953b501b15e8e990130d2b7799f14cfd9f4271676035ebe5511"
  }
 },
 "nbformat": 4,
 "nbformat_minor": 2,
 "cells": [
  {
   "cell_type": "markdown",
   "source": [
    "# Power Density Data\n",
    "\n",
    "A power density database has been provided by Wilmarth, Stimac and Ganefiantio for inclusion in this repository and the application. \n",
    "\n",
    "Maxwell Wilmarth, James Stimac and Gugi Ganefianto (2020) Power Density in Geothermal Fields, 2020 Update, Proceedings World Geothermal Congress 2020+1, Reykjavik, Iceland, April - October 2021.\n",
    "\n",
    "Wilmarth, M. and Stimac, J.: Power Density In Geothermal Fields, Proceedings, World Geothermal Conference (2015).\n",
    "\n",
    "Database paramaters\n",
    "\n",
    "Power density is the power (MWe) per area (km2) that is generated. \n",
    "\n",
    "**Power capacity**\n",
    "\n",
    "The Wilmarth et al (2020, 2015) database uses net power output in MWe that is based on published data or information provided by the operating company directly to the authors. This contrasts with installed capacity, which is typically publicly reported and is included in the [Think Geoenergy power plant map](https://www.thinkgeoenergy.com/map/). The gap between installed capacity and net generation may be related to plant efficiency or parasitic load. Alternatively, resource factors may influence, such as pressure decline or enthalpy evolution, that means that the power plant does not generate at full capacity.  \n",
    "\n",
    "**Area**\n",
    "\n",
    "Wilmarth et al (2020, 2015) use 500 m buffer around the production wells to define the reserver area. This is important to keep in mind when using the power density plot for resource capacity estimates: The power density values can not be blindly applied to the full extent of the resistivity anomaly or even an area defined by the maximum extent of geothermal manifestations. Instead, the area of productive resource in the subsurface must be defined using a conceptual model, ideally with each of the P10, P50 and P90 areas considered.    \n",
    "\n",
    "**Average temperature**\n",
    "\n",
    "Geothermal resources contain a range of temperatures in the subsurface, their production temperature/enthalpy may evolve though time, and reliable reporting of resource temperature may be difficult to obtain. It is therefore unsurprising that Wilmarth et al. (2020) cites average reservoir temperature as the most difficult parameter to estimate. \n",
    "\n",
    "## Notebook purpose\n",
    "\n",
    "This notebook has been developed to explore the power density database and determine how best to plot the data in the Streamlit application. \n"
   ],
   "metadata": {}
  },
  {
   "cell_type": "code",
   "execution_count": 34,
   "source": [
    "import matplotlib.pyplot as plt\n",
    "import pandas as pd\n",
    "import numpy as np\n",
    "import seaborn as sns\n",
    "import plotly.express as px\n"
   ],
   "outputs": [],
   "metadata": {}
  },
  {
   "cell_type": "code",
   "execution_count": 28,
   "source": [
    "pddata = pd.read_excel(r'../PowerDensityDatabase_MWilmarth-JStimac-GGanefianto-2020-WGC-Data.xlsx', \n",
    "    sheet_name='Sheet1')\n",
    "pddata\n"
   ],
   "outputs": [
    {
     "output_type": "execute_result",
     "data": {
      "text/html": [
       "<div>\n",
       "<style scoped>\n",
       "    .dataframe tbody tr th:only-of-type {\n",
       "        vertical-align: middle;\n",
       "    }\n",
       "\n",
       "    .dataframe tbody tr th {\n",
       "        vertical-align: top;\n",
       "    }\n",
       "\n",
       "    .dataframe thead th {\n",
       "        text-align: right;\n",
       "    }\n",
       "</style>\n",
       "<table border=\"1\" class=\"dataframe\">\n",
       "  <thead>\n",
       "    <tr style=\"text-align: right;\">\n",
       "      <th></th>\n",
       "      <th>Field</th>\n",
       "      <th>aveT_degC_2020</th>\n",
       "      <th>PwrDens_MWperkm2_2020</th>\n",
       "      <th>Tectonic_setting_WGC2020</th>\n",
       "      <th>System_type</th>\n",
       "      <th>Enthalpy</th>\n",
       "    </tr>\n",
       "  </thead>\n",
       "  <tbody>\n",
       "    <tr>\n",
       "      <th>0</th>\n",
       "      <td>Ahuachapan</td>\n",
       "      <td>250</td>\n",
       "      <td>14.412513</td>\n",
       "      <td>Arc</td>\n",
       "      <td>Arc</td>\n",
       "      <td>Two-phase - liquid dominated</td>\n",
       "    </tr>\n",
       "    <tr>\n",
       "      <th>1</th>\n",
       "      <td>Alasehir</td>\n",
       "      <td>185</td>\n",
       "      <td>7.782423</td>\n",
       "      <td>NaN</td>\n",
       "      <td>NaN</td>\n",
       "      <td>Hot water - intermediate temperature</td>\n",
       "    </tr>\n",
       "    <tr>\n",
       "      <th>2</th>\n",
       "      <td>Amatitlán</td>\n",
       "      <td>285</td>\n",
       "      <td>7.692308</td>\n",
       "      <td>NaN</td>\n",
       "      <td>NaN</td>\n",
       "      <td>Two-phase - liquid dominated</td>\n",
       "    </tr>\n",
       "    <tr>\n",
       "      <th>3</th>\n",
       "      <td>Amedee</td>\n",
       "      <td>107</td>\n",
       "      <td>1.230769</td>\n",
       "      <td>Fault-based</td>\n",
       "      <td>Deep circulation</td>\n",
       "      <td>Hot water - low temperature</td>\n",
       "    </tr>\n",
       "    <tr>\n",
       "      <th>4</th>\n",
       "      <td>Bac-Man</td>\n",
       "      <td>269</td>\n",
       "      <td>10.204082</td>\n",
       "      <td>Arc</td>\n",
       "      <td>Arc</td>\n",
       "      <td>Two-phase - liquid dominated</td>\n",
       "    </tr>\n",
       "    <tr>\n",
       "      <th>...</th>\n",
       "      <td>...</td>\n",
       "      <td>...</td>\n",
       "      <td>...</td>\n",
       "      <td>...</td>\n",
       "      <td>...</td>\n",
       "      <td>...</td>\n",
       "    </tr>\n",
       "    <tr>\n",
       "      <th>103</th>\n",
       "      <td>Wineagle</td>\n",
       "      <td>110</td>\n",
       "      <td>0.538462</td>\n",
       "      <td>Fault-based</td>\n",
       "      <td>Deep circulation</td>\n",
       "      <td>Hot water - low temperature</td>\n",
       "    </tr>\n",
       "    <tr>\n",
       "      <th>104</th>\n",
       "      <td>Yamagawa</td>\n",
       "      <td>305</td>\n",
       "      <td>6.102604</td>\n",
       "      <td>Arc</td>\n",
       "      <td>Arc</td>\n",
       "      <td>Two-phase - liquid dominated</td>\n",
       "    </tr>\n",
       "    <tr>\n",
       "      <th>105</th>\n",
       "      <td>Yanaizu-Nishiyama</td>\n",
       "      <td>300</td>\n",
       "      <td>7.474571</td>\n",
       "      <td>Arc</td>\n",
       "      <td>Arc</td>\n",
       "      <td>Two-phase - liquid dominated</td>\n",
       "    </tr>\n",
       "    <tr>\n",
       "      <th>106</th>\n",
       "      <td>Yangbajain</td>\n",
       "      <td>175</td>\n",
       "      <td>3.007048</td>\n",
       "      <td>Other</td>\n",
       "      <td>NaN</td>\n",
       "      <td>Hot water - intermediate temperature</td>\n",
       "    </tr>\n",
       "    <tr>\n",
       "      <th>107</th>\n",
       "      <td>Zunil</td>\n",
       "      <td>290</td>\n",
       "      <td>13.529412</td>\n",
       "      <td>Arc</td>\n",
       "      <td>Arc</td>\n",
       "      <td>Two-phase - liquid dominated</td>\n",
       "    </tr>\n",
       "  </tbody>\n",
       "</table>\n",
       "<p>108 rows × 6 columns</p>\n",
       "</div>"
      ],
      "text/plain": [
       "                 Field  aveT_degC_2020  PwrDens_MWperkm2_2020  \\\n",
       "0           Ahuachapan             250              14.412513   \n",
       "1             Alasehir             185               7.782423   \n",
       "2            Amatitlán             285               7.692308   \n",
       "3               Amedee             107               1.230769   \n",
       "4              Bac-Man             269              10.204082   \n",
       "..                 ...             ...                    ...   \n",
       "103           Wineagle             110               0.538462   \n",
       "104           Yamagawa             305               6.102604   \n",
       "105  Yanaizu-Nishiyama             300               7.474571   \n",
       "106         Yangbajain             175               3.007048   \n",
       "107              Zunil             290              13.529412   \n",
       "\n",
       "    Tectonic_setting_WGC2020       System_type  \\\n",
       "0                        Arc               Arc   \n",
       "1                        NaN               NaN   \n",
       "2                        NaN               NaN   \n",
       "3                Fault-based  Deep circulation   \n",
       "4                        Arc               Arc   \n",
       "..                       ...               ...   \n",
       "103              Fault-based  Deep circulation   \n",
       "104                      Arc               Arc   \n",
       "105                      Arc               Arc   \n",
       "106                    Other               NaN   \n",
       "107                      Arc               Arc   \n",
       "\n",
       "                                 Enthalpy  \n",
       "0            Two-phase - liquid dominated  \n",
       "1    Hot water - intermediate temperature  \n",
       "2            Two-phase - liquid dominated  \n",
       "3             Hot water - low temperature  \n",
       "4            Two-phase - liquid dominated  \n",
       "..                                    ...  \n",
       "103           Hot water - low temperature  \n",
       "104          Two-phase - liquid dominated  \n",
       "105          Two-phase - liquid dominated  \n",
       "106  Hot water - intermediate temperature  \n",
       "107          Two-phase - liquid dominated  \n",
       "\n",
       "[108 rows x 6 columns]"
      ]
     },
     "metadata": {},
     "execution_count": 28
    }
   ],
   "metadata": {}
  },
  {
   "cell_type": "code",
   "execution_count": 29,
   "source": [
    "# fit a first order polynomial (strait line) to all the data\n",
    "model_1d = np.poly1d(np.polyfit(pddata.aveT_degC_2020.values, pddata.PwrDens_MWperkm2_2020.values, 1))\n",
    "x_1dpoly = np.linspace(0, 350, 200)\n",
    "y_1dpoly = model_1d(x_1dpoly)\n",
    "\n",
    "# fit a second order polynomial to all the data\n",
    "model_2d = np.poly1d(np.polyfit(pddata.aveT_degC_2020.values, pddata.PwrDens_MWperkm2_2020.values, 2))\n",
    "x_2dpoly = np.linspace(0, 350, 200)\n",
    "y_2dpoly = model_2d(x_2dpoly)"
   ],
   "outputs": [],
   "metadata": {}
  },
  {
   "cell_type": "code",
   "execution_count": 39,
   "source": [
    "fig, (ax1, ax2, ax3) = plt.subplots(1,3,figsize=(14,5), sharey=True)\n",
    "\n",
    "ax = sns.scatterplot(x='aveT_degC_2020', y='PwrDens_MWperkm2_2020',\n",
    "    hue='Tectonic_setting_WGC2020', \n",
    "    data=pddata,\n",
    "    ax=ax1)\n",
    "\n",
    "ax = sns.scatterplot(x='aveT_degC_2020', y='PwrDens_MWperkm2_2020',\n",
    "    hue='System_type',\n",
    "    data=pddata,\n",
    "    ax=ax2)\n",
    "\n",
    "ax3 = px.scatter(\n",
    "    pddata, \n",
    "    x=\"aveT_degC_2020\", \n",
    "    y=\"PwrDens_MWperkm2_2020\",\n",
    "    hover_data=['Field'],\n",
    ")\n",
    "\n",
    "'''\n",
    "ax = sns.scatterplot(x='aveT_degC_2020', y='PwrDens_MWperkm2_2020',\n",
    "    hue='Enthalpy',\n",
    "    data=pddata,\n",
    "    ax=ax3)\n",
    "'''\n",
    "\n",
    "#plt.plot(x_1dpoly, y_1dpoly, \n",
    "#    ':', color = 'tab:green', label = '1st order fit')\n",
    "#plt.plot(x_2dpoly, y_2dpoly, \n",
    "#   '-', color = 'tab:green', label = '2nd order fit')\n",
    "\n",
    "for ax in [ax1, ax2]:\n",
    "    ax.legend()\n",
    "    ax.grid()\n",
    "    ax.set_xlim(0,350)\n",
    "    ax.set_ylim(0,50)\n",
    "    ax.set_xlabel('Average reservoir temperature [degC]')\n",
    "    \n",
    "ax1.set_ylabel('Power density [MWe/km2]')\n",
    "ax1.set_title('Classification from Wilmarth et al. 2020 WGC')\n",
    "ax2.set_title('Classification from Wallis 2021 database')\n"
   ],
   "outputs": [
    {
     "output_type": "execute_result",
     "data": {
      "text/plain": [
       "Text(0.5, 1.0, 'Classification from Wallis 2021 database')"
      ]
     },
     "metadata": {},
     "execution_count": 39
    },
    {
     "output_type": "display_data",
     "data": {
      "image/png": "[encoded data removed]",
      "text/plain": [
       "<Figure size 1008x360 with 3 Axes>"
      ]
     },
     "metadata": {
      "needs_background": "light"
     }
    }
   ],
   "metadata": {}
  },
  {
   "cell_type": "markdown",
   "source": [
    "Fitting a trend line to this spread of data is not a good idea. An upper limit line would make more sense. \n",
    "\n",
    "Perhaps just present the raw data and point people to the Wilmarth et al (2020) paper for their interpretation. \n",
    "\n",
    "Things to do:\n",
    "- Double check the publication for those points classified 'not on plot'. Have I just missed them?\n",
    "- Then make a clickable plot for the streamlit app so we can see the field name\n",
    "- Perhaps also make a pick list so that the plot only shows specific fields you want to look at (\"my resource looks like these analogues, so please just show me these ones\")"
   ],
   "metadata": {}
  },
  {
   "cell_type": "code",
   "execution_count": 69,
   "source": [
    "from plotly.subplots import make_subplots\n",
    "import plotly.graph_objects as go\n",
    "\n",
    "fig = make_subplots(\n",
    "    rows=1, \n",
    "    cols=1,\n",
    "    )\n",
    "\n",
    "\n",
    "fig.append_trace(\n",
    "    go.Scatter(\n",
    "        x=pddata.aveT_degC_2020, \n",
    "        y=pddata.PwrDens_MWperkm2_2020,\n",
    "        mode=\"markers+text\",\n",
    "        text=pddata.Field.values,\n",
    "        textposition=\"bottom center\",\n",
    "        ),\n",
    "    row=1, col=1\n",
    ")\n",
    "\n",
    "fig.update_layout(\n",
    "    height=600, \n",
    "    width=600, \n",
    "    title_text=\"Plotly Subplots Test\"\n",
    ")\n",
    "\n",
    "fig.show()"
   ],
   "outputs": [
    {
     "output_type": "display_data",
     "data": {
      "application/vnd.plotly.v1+json": {
       "config": {
        "plotlyServerURL": "https://plot.ly"
       },
       "data": [
        {
         "mode": "markers+text",
         "text": [
          "Ahuachapan",
          "Alasehir",
          "Amatitlán",
          "Amedee",
          "Bac-Man",
          "Beowawe",
          "Berlin",
          "Bjarnarflag",
          "Blue Mountain",
          "Bouillante",
          "Bradys",
          "Bulalo",
          "Cachaços-Lombadas ",
          "Cerro Prieto",
          "Chena Hot Springs",
          "Coso",
          "Darajat",
          "Desert Peak",
          "Dieng",
          "Dixie Valley",
          "Domo San Pedro",
          "Don A. Campbell",
          "East Mesa",
          "Fang",
          "Germencik",
          "Geysers",
          "Gunung Patuha",
          "Hachijo-jima",
          "Hatchobaru",
          "Heber",
          "Hellisheidi",
          "Husavik",
          "Kakkonda",
          "Kamojang",
          "Karaha",
          "Kawerau",
          "Kirchstockach",
          "Kizildere",
          "Krafla",
          "Lahendong",
          "Larderello",
          "Las Pailas",
          "Las Tres Virgenes",
          "Lihir",
          "Los Azufres",
          "Los Humeros",
          "Mahanagdong",
          "Maibarara",
          "Mammoth",
          "Mataloko",
          "Matsukawa",
          "Miravalles",
          "Mokai",
          "Momotombo",
          "Mori",
          "Mt. Apo ",
          "Mutnovsky",
          "Neal Hot Springs",
          "Nesjavellir",
          "Ngatamariki",
          "Ngawha",
          "Ogiri",
          "Oguni",
          "Ohaaki",
          "Olkaria",
          "Onikobe",
          "Onuma",
          "Otake",
          "Paisley",
          "Palinpinon",
          "Pamukoren",
          "Pauzetksky",
          "Piancastagnaio",
          "Pico Alto",
          "Pico Vermelho",
          "Platanares",
          "Puna",
          "Raft River",
          "Reykjanes",
          "Roosevelt",
          "Rotokawa",
          "Salak",
          "Salavatli",
          "Salton Sea",
          "San Emidio",
          "San Jacinto",
          "Sibayak",
          "Silangkitang",
          "Steamboat",
          "Suginoi",
          "Sumikawa",
          "Svartsengi",
          "Takigami",
          "Tiwi",
          "Tongonan",
          "Travale",
          "Tuscarora",
          "Uenotai",
          "Ulubelu",
          "Ulumbu",
          "Umurlu",
          "Wairakei-Tauhara",
          "Wayang Windu",
          "Wineagle",
          "Yamagawa",
          "Yanaizu-Nishiyama",
          "Yangbajain",
          "Zunil"
         ],
         "textposition": "bottom center",
         "type": "scatter",
         "x": [
          250,
          185,
          285,
          107,
          269,
          215,
          255,
          300,
          185,
          250,
          130,
          270,
          228,
          300,
          75,
          275,
          245,
          170,
          290,
          230,
          300,
          129,
          145,
          130,
          234,
          240,
          225,
          300,
          270,
          170,
          290,
          125,
          285,
          245,
          290,
          275,
          138,
          230,
          270,
          280,
          235,
          245,
          250,
          220,
          275,
          340,
          270,
          300,
          170,
          240,
          250,
          236,
          295,
          220,
          245,
          280,
          260,
          140,
          290,
          280,
          230,
          230,
          225,
          275,
          240,
          235,
          225,
          210,
          115,
          300,
          188,
          190,
          328,
          280,
          235,
          180,
          340,
          135,
          300,
          245,
          320,
          260,
          171,
          300,
          135,
          275,
          280,
          300,
          145,
          210,
          250,
          240,
          245,
          270,
          285,
          300,
          172,
          310,
          270,
          235,
          175,
          275,
          250,
          110,
          305,
          300,
          175,
          290
         ],
         "xaxis": "x",
         "y": [
          14.41251252,
          7.782423013,
          7.692307692,
          1.230769231,
          10.20408163,
          7,
          19.04748793,
          1.217675569,
          7.277777778,
          9.273780826,
          2.75,
          19.0843088,
          8.666666667,
          26.77777778,
          0.569620253,
          8.982035928,
          19.60794604,
          4.4,
          9.035761198,
          17.51612903,
          10.06539702,
          29.84615385,
          2.827225131,
          0.251930827,
          18.29151776,
          11.64383562,
          9.577522076,
          2.5,
          41.66666667,
          11.44578313,
          19.25428133,
          1.483006201,
          11.42857143,
          21.13385725,
          5.763955618,
          19.28505741,
          2.894736842,
          11.37371612,
          10.88409581,
          18.41827985,
          4.130434783,
          9.512959773,
          7.42920358,
          15.83858962,
          16.84210526,
          7.607276871,
          8.571428571,
          10.29526556,
          11.6,
          2.325581395,
          6.443433216,
          17.33333333,
          30.43564121,
          9.553153561,
          8.041958615,
          8.741258741,
          12.78094619,
          8.8,
          13.85597154,
          24.68434389,
          11.1118606,
          15.27241489,
          0.875675964,
          6.818181818,
          21.66666667,
          3.145553788,
          3.63236597,
          10.6025744,
          1.714285714,
          12.5,
          9.230769231,
          7.317042075,
          7.446808511,
          2.858325792,
          4.423076923,
          15.2,
          25.33333333,
          3.896586694,
          24.57478132,
          13.2,
          30.75293998,
          18.28150556,
          6.779661017,
          28.125,
          5.846153846,
          14.02926456,
          2.545288905,
          41.82806439,
          3.472743139,
          1.25,
          11.88239853,
          28.39092616,
          15.23502202,
          11.14196427,
          26.31578947,
          8.177083333,
          16.55555556,
          5.806527255,
          20.0840477,
          8.941177317,
          4.321377423,
          26.98691598,
          14.48725471,
          0.538461538,
          6.102604394,
          7.474570865,
          3.007048054,
          13.52941176
         ],
         "yaxis": "y"
        }
       ],
       "layout": {
        "height": 600,
        "template": {
         "data": {
          "bar": [
           {
            "error_x": {
             "color": "#2a3f5f"
            },
            "error_y": {
             "color": "#2a3f5f"
            },
            "marker": {
             "line": {
              "color": "#E5ECF6",
              "width": 0.5
             },
             "pattern": {
              "fillmode": "overlay",
              "size": 10,
              "solidity": 0.2
             }
            },
            "type": "bar"
           }
          ],
          "barpolar": [
           {
            "marker": {
             "line": {
              "color": "#E5ECF6",
              "width": 0.5
             },
             "pattern": {
              "fillmode": "overlay",
              "size": 10,
              "solidity": 0.2
             }
            },
            "type": "barpolar"
           }
          ],
          "carpet": [
           {
            "aaxis": {
             "endlinecolor": "#2a3f5f",
             "gridcolor": "white",
             "linecolor": "white",
             "minorgridcolor": "white",
             "startlinecolor": "#2a3f5f"
            },
            "baxis": {
             "endlinecolor": "#2a3f5f",
             "gridcolor": "white",
             "linecolor": "white",
             "minorgridcolor": "white",
             "startlinecolor": "#2a3f5f"
            },
            "type": "carpet"
           }
          ],
          "choropleth": [
           {
            "colorbar": {
             "outlinewidth": 0,
             "ticks": ""
            },
            "type": "choropleth"
           }
          ],
          "contour": [
           {
            "colorbar": {
             "outlinewidth": 0,
             "ticks": ""
            },
            "colorscale": [
             [
              0,
              "#0d0887"
             ],
             [
              0.1111111111111111,
              "#46039f"
             ],
             [
              0.2222222222222222,
              "#7201a8"
             ],
             [
              0.3333333333333333,
              "#9c179e"
             ],
             [
              0.4444444444444444,
              "#bd3786"
             ],
             [
              0.5555555555555556,
              "#d8576b"
             ],
             [
              0.6666666666666666,
              "#ed7953"
             ],
             [
              0.7777777777777778,
              "#fb9f3a"
             ],
             [
              0.8888888888888888,
              "#fdca26"
             ],
             [
              1,
              "#f0f921"
             ]
            ],
            "type": "contour"
           }
          ],
          "contourcarpet": [
           {
            "colorbar": {
             "outlinewidth": 0,
             "ticks": ""
            },
            "type": "contourcarpet"
           }
          ],
          "heatmap": [
           {
            "colorbar": {
             "outlinewidth": 0,
             "ticks": ""
            },
            "colorscale": [
             [
              0,
              "#0d0887"
             ],
             [
              0.1111111111111111,
              "#46039f"
             ],
             [
              0.2222222222222222,
              "#7201a8"
             ],
             [
              0.3333333333333333,
              "#9c179e"
             ],
             [
              0.4444444444444444,
              "#bd3786"
             ],
             [
              0.5555555555555556,
              "#d8576b"
             ],
             [
              0.6666666666666666,
              "#ed7953"
             ],
             [
              0.7777777777777778,
              "#fb9f3a"
             ],
             [
              0.8888888888888888,
              "#fdca26"
             ],
             [
              1,
              "#f0f921"
             ]
            ],
            "type": "heatmap"
           }
          ],
          "heatmapgl": [
           {
            "colorbar": {
             "outlinewidth": 0,
             "ticks": ""
            },
            "colorscale": [
             [
              0,
              "#0d0887"
             ],
             [
              0.1111111111111111,
              "#46039f"
             ],
             [
              0.2222222222222222,
              "#7201a8"
             ],
             [
              0.3333333333333333,
              "#9c179e"
             ],
             [
              0.4444444444444444,
              "#bd3786"
             ],
             [
              0.5555555555555556,
              "#d8576b"
             ],
             [
              0.6666666666666666,
              "#ed7953"
             ],
             [
              0.7777777777777778,
              "#fb9f3a"
             ],
             [
              0.8888888888888888,
              "#fdca26"
             ],
             [
              1,
              "#f0f921"
             ]
            ],
            "type": "heatmapgl"
           }
          ],
          "histogram": [
           {
            "marker": {
             "pattern": {
              "fillmode": "overlay",
              "size": 10,
              "solidity": 0.2
             }
            },
            "type": "histogram"
           }
          ],
          "histogram2d": [
           {
            "colorbar": {
             "outlinewidth": 0,
             "ticks": ""
            },
            "colorscale": [
             [
              0,
              "#0d0887"
             ],
             [
              0.1111111111111111,
              "#46039f"
             ],
             [
              0.2222222222222222,
              "#7201a8"
             ],
             [
              0.3333333333333333,
              "#9c179e"
             ],
             [
              0.4444444444444444,
              "#bd3786"
             ],
             [
              0.5555555555555556,
              "#d8576b"
             ],
             [
              0.6666666666666666,
              "#ed7953"
             ],
             [
              0.7777777777777778,
              "#fb9f3a"
             ],
             [
              0.8888888888888888,
              "#fdca26"
             ],
             [
              1,
              "#f0f921"
             ]
            ],
            "type": "histogram2d"
           }
          ],
          "histogram2dcontour": [
           {
            "colorbar": {
             "outlinewidth": 0,
             "ticks": ""
            },
            "colorscale": [
             [
              0,
              "#0d0887"
             ],
             [
              0.1111111111111111,
              "#46039f"
             ],
             [
              0.2222222222222222,
              "#7201a8"
             ],
             [
              0.3333333333333333,
              "#9c179e"
             ],
             [
              0.4444444444444444,
              "#bd3786"
             ],
             [
              0.5555555555555556,
              "#d8576b"
             ],
             [
              0.6666666666666666,
              "#ed7953"
             ],
             [
              0.7777777777777778,
              "#fb9f3a"
             ],
             [
              0.8888888888888888,
              "#fdca26"
             ],
             [
              1,
              "#f0f921"
             ]
            ],
            "type": "histogram2dcontour"
           }
          ],
          "mesh3d": [
           {
            "colorbar": {
             "outlinewidth": 0,
             "ticks": ""
            },
            "type": "mesh3d"
           }
          ],
          "parcoords": [
           {
            "line": {
             "colorbar": {
              "outlinewidth": 0,
              "ticks": ""
             }
            },
            "type": "parcoords"
           }
          ],
          "pie": [
           {
            "automargin": true,
            "type": "pie"
           }
          ],
          "scatter": [
           {
            "marker": {
             "colorbar": {
              "outlinewidth": 0,
              "ticks": ""
             }
            },
            "type": "scatter"
           }
          ],
          "scatter3d": [
           {
            "line": {
             "colorbar": {
              "outlinewidth": 0,
              "ticks": ""
             }
            },
            "marker": {
             "colorbar": {
              "outlinewidth": 0,
              "ticks": ""
             }
            },
            "type": "scatter3d"
           }
          ],
          "scattercarpet": [
           {
            "marker": {
             "colorbar": {
              "outlinewidth": 0,
              "ticks": ""
             }
            },
            "type": "scattercarpet"
           }
          ],
          "scattergeo": [
           {
            "marker": {
             "colorbar": {
              "outlinewidth": 0,
              "ticks": ""
             }
            },
            "type": "scattergeo"
           }
          ],
          "scattergl": [
           {
            "marker": {
             "colorbar": {
              "outlinewidth": 0,
              "ticks": ""
             }
            },
            "type": "scattergl"
           }
          ],
          "scattermapbox": [
           {
            "marker": {
             "colorbar": {
              "outlinewidth": 0,
              "ticks": ""
             }
            },
            "type": "scattermapbox"
           }
          ],
          "scatterpolar": [
           {
            "marker": {
             "colorbar": {
              "outlinewidth": 0,
              "ticks": ""
             }
            },
            "type": "scatterpolar"
           }
          ],
          "scatterpolargl": [
           {
            "marker": {
             "colorbar": {
              "outlinewidth": 0,
              "ticks": ""
             }
            },
            "type": "scatterpolargl"
           }
          ],
          "scatterternary": [
           {
            "marker": {
             "colorbar": {
              "outlinewidth": 0,
              "ticks": ""
             }
            },
            "type": "scatterternary"
           }
          ],
          "surface": [
           {
            "colorbar": {
             "outlinewidth": 0,
             "ticks": ""
            },
            "colorscale": [
             [
              0,
              "#0d0887"
             ],
             [
              0.1111111111111111,
              "#46039f"
             ],
             [
              0.2222222222222222,
              "#7201a8"
             ],
             [
              0.3333333333333333,
              "#9c179e"
             ],
             [
              0.4444444444444444,
              "#bd3786"
             ],
             [
              0.5555555555555556,
              "#d8576b"
             ],
             [
              0.6666666666666666,
              "#ed7953"
             ],
             [
              0.7777777777777778,
              "#fb9f3a"
             ],
             [
              0.8888888888888888,
              "#fdca26"
             ],
             [
              1,
              "#f0f921"
             ]
            ],
            "type": "surface"
           }
          ],
          "table": [
           {
            "cells": {
             "fill": {
              "color": "#EBF0F8"
             },
             "line": {
              "color": "white"
             }
            },
            "header": {
             "fill": {
              "color": "#C8D4E3"
             },
             "line": {
              "color": "white"
             }
            },
            "type": "table"
           }
          ]
         },
         "layout": {
          "annotationdefaults": {
           "arrowcolor": "#2a3f5f",
           "arrowhead": 0,
           "arrowwidth": 1
          },
          "autotypenumbers": "strict",
          "coloraxis": {
           "colorbar": {
            "outlinewidth": 0,
            "ticks": ""
           }
          },
          "colorscale": {
           "diverging": [
            [
             0,
             "#8e0152"
            ],
            [
             0.1,
             "#c51b7d"
            ],
            [
             0.2,
             "#de77ae"
            ],
            [
             0.3,
             "#f1b6da"
            ],
            [
             0.4,
             "#fde0ef"
            ],
            [
             0.5,
             "#f7f7f7"
            ],
            [
             0.6,
             "#e6f5d0"
            ],
            [
             0.7,
             "#b8e186"
            ],
            [
             0.8,
             "#7fbc41"
            ],
            [
             0.9,
             "#4d9221"
            ],
            [
             1,
             "#276419"
            ]
           ],
           "sequential": [
            [
             0,
             "#0d0887"
            ],
            [
             0.1111111111111111,
             "#46039f"
            ],
            [
             0.2222222222222222,
             "#7201a8"
            ],
            [
             0.3333333333333333,
             "#9c179e"
            ],
            [
             0.4444444444444444,
             "#bd3786"
            ],
            [
             0.5555555555555556,
             "#d8576b"
            ],
            [
             0.6666666666666666,
             "#ed7953"
            ],
            [
             0.7777777777777778,
             "#fb9f3a"
            ],
            [
             0.8888888888888888,
             "#fdca26"
            ],
            [
             1,
             "#f0f921"
            ]
           ],
           "sequentialminus": [
            [
             0,
             "#0d0887"
            ],
            [
             0.1111111111111111,
             "#46039f"
            ],
            [
             0.2222222222222222,
             "#7201a8"
            ],
            [
             0.3333333333333333,
             "#9c179e"
            ],
            [
             0.4444444444444444,
             "#bd3786"
            ],
            [
             0.5555555555555556,
             "#d8576b"
            ],
            [
             0.6666666666666666,
             "#ed7953"
            ],
            [
             0.7777777777777778,
             "#fb9f3a"
            ],
            [
             0.8888888888888888,
             "#fdca26"
            ],
            [
             1,
             "#f0f921"
            ]
           ]
          },
          "colorway": [
           "#636efa",
           "#EF553B",
           "#00cc96",
           "#ab63fa",
           "#FFA15A",
           "#19d3f3",
           "#FF6692",
           "#B6E880",
           "#FF97FF",
           "#FECB52"
          ],
          "font": {
           "color": "#2a3f5f"
          },
          "geo": {
           "bgcolor": "white",
           "lakecolor": "white",
           "landcolor": "#E5ECF6",
           "showlakes": true,
           "showland": true,
           "subunitcolor": "white"
          },
          "hoverlabel": {
           "align": "left"
          },
          "hovermode": "closest",
          "mapbox": {
           "style": "light"
          },
          "paper_bgcolor": "white",
          "plot_bgcolor": "#E5ECF6",
          "polar": {
           "angularaxis": {
            "gridcolor": "white",
            "linecolor": "white",
            "ticks": ""
           },
           "bgcolor": "#E5ECF6",
           "radialaxis": {
            "gridcolor": "white",
            "linecolor": "white",
            "ticks": ""
           }
          },
          "scene": {
           "xaxis": {
            "backgroundcolor": "#E5ECF6",
            "gridcolor": "white",
            "gridwidth": 2,
            "linecolor": "white",
            "showbackground": true,
            "ticks": "",
            "zerolinecolor": "white"
           },
           "yaxis": {
            "backgroundcolor": "#E5ECF6",
            "gridcolor": "white",
            "gridwidth": 2,
            "linecolor": "white",
            "showbackground": true,
            "ticks": "",
            "zerolinecolor": "white"
           },
           "zaxis": {
            "backgroundcolor": "#E5ECF6",
            "gridcolor": "white",
            "gridwidth": 2,
            "linecolor": "white",
            "showbackground": true,
            "ticks": "",
            "zerolinecolor": "white"
           }
          },
          "shapedefaults": {
           "line": {
            "color": "#2a3f5f"
           }
          },
          "ternary": {
           "aaxis": {
            "gridcolor": "white",
            "linecolor": "white",
            "ticks": ""
           },
           "baxis": {
            "gridcolor": "white",
            "linecolor": "white",
            "ticks": ""
           },
           "bgcolor": "#E5ECF6",
           "caxis": {
            "gridcolor": "white",
            "linecolor": "white",
            "ticks": ""
           }
          },
          "title": {
           "x": 0.05
          },
          "xaxis": {
           "automargin": true,
           "gridcolor": "white",
           "linecolor": "white",
           "ticks": "",
           "title": {
            "standoff": 15
           },
           "zerolinecolor": "white",
           "zerolinewidth": 2
          },
          "yaxis": {
           "automargin": true,
           "gridcolor": "white",
           "linecolor": "white",
           "ticks": "",
           "title": {
            "standoff": 15
           },
           "zerolinecolor": "white",
           "zerolinewidth": 2
          }
         }
        },
        "title": {
         "text": "Plotly Subplots Test"
        },
        "width": 600,
        "xaxis": {
         "anchor": "y",
         "domain": [
          0,
          1
         ]
        },
        "yaxis": {
         "anchor": "x",
         "domain": [
          0,
          1
         ]
        }
       }
      }
     },
     "metadata": {}
    }
   ],
   "metadata": {}
  },
  {
   "cell_type": "code",
   "execution_count": 31,
   "source": [
    "pddata.Tectonic_setting_WGC2020.unique()"
   ],
   "outputs": [
    {
     "output_type": "execute_result",
     "data": {
      "text/plain": [
       "array(['Arc', nan, 'Fault-based', 'Rift', 'Other'], dtype=object)"
      ]
     },
     "metadata": {},
     "execution_count": 31
    }
   ],
   "metadata": {}
  },
  {
   "cell_type": "code",
   "execution_count": 32,
   "source": [
    "pddata_other = pddata[pddata.Tectonic_setting_WGC2020 == 'Other']\n"
   ],
   "outputs": [],
   "metadata": {}
  },
  {
   "cell_type": "code",
   "execution_count": 33,
   "source": [
    "pddata_missing = pddata[pddata.Tectonic_setting_WGC2020 == 'Not on plot']\n",
    "test = pddata_missing.sort_values(by=['aveT_degC_2020'])\n",
    "test.head(11)"
   ],
   "outputs": [
    {
     "output_type": "execute_result",
     "data": {
      "text/html": [
       "<div>\n",
       "<style scoped>\n",
       "    .dataframe tbody tr th:only-of-type {\n",
       "        vertical-align: middle;\n",
       "    }\n",
       "\n",
       "    .dataframe tbody tr th {\n",
       "        vertical-align: top;\n",
       "    }\n",
       "\n",
       "    .dataframe thead th {\n",
       "        text-align: right;\n",
       "    }\n",
       "</style>\n",
       "<table border=\"1\" class=\"dataframe\">\n",
       "  <thead>\n",
       "    <tr style=\"text-align: right;\">\n",
       "      <th></th>\n",
       "      <th>Field</th>\n",
       "      <th>aveT_degC_2020</th>\n",
       "      <th>PwrDens_MWperkm2_2020</th>\n",
       "      <th>Tectonic_setting_WGC2020</th>\n",
       "      <th>System_type</th>\n",
       "      <th>Enthalpy</th>\n",
       "    </tr>\n",
       "  </thead>\n",
       "  <tbody>\n",
       "  </tbody>\n",
       "</table>\n",
       "</div>"
      ],
      "text/plain": [
       "Empty DataFrame\n",
       "Columns: [Field, aveT_degC_2020, PwrDens_MWperkm2_2020, Tectonic_setting_WGC2020, System_type, Enthalpy]\n",
       "Index: []"
      ]
     },
     "metadata": {},
     "execution_count": 33
    }
   ],
   "metadata": {}
  },
  {
   "cell_type": "markdown",
   "source": [
    "## New Classification System\n",
    "\n",
    "There are many ways these fields may be split. This one is a proxy for spatial/temporal distance to heat source. \n",
    "\n",
    "- Volcanic – Arc andesite (Indonesia, Philippines) **V-andesite**\n",
    "- Volcanic – Basaltic-dominant mature rift or hotspot (Iceland, Hawaii) **V-basalt**\n",
    "- Volcanic – Silicic-dominant adolescent rift (NZ, Kenya etc) **V-rhyolite**\n",
    "- Deep-circulation – magmatic (waning volcanic centres or deep sourced, magmatic heat in immature rifts and extensional provinces, Great Basin edge, West Branch of EARS) **DC-magmatic**\n",
    "- Deep-circulation – amagmatic (extensional provinces with elevated heat flow, Great Basin) **DC-amagmatic**\n",
    "\n",
    "First pass: Those that are not clearly in category just make **TBC**\n"
   ],
   "metadata": {}
  },
  {
   "cell_type": "markdown",
   "source": [],
   "metadata": {}
  }
 ]
}