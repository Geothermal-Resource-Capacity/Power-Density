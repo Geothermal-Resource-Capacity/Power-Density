{
 "metadata": {
  "language_info": {
   "codemirror_mode": {
    "name": "ipython",
    "version": 3
   },
   "file_extension": ".py",
   "mimetype": "text/x-python",
   "name": "python",
   "nbconvert_exporter": "python",
   "pygments_lexer": "ipython3",
   "version": "3.7.7"
  },
  "orig_nbformat": 2,
  "kernelspec": {
   "name": "python377jvsc74a57bd056a6a54a1dcd3ee6e9439519d5ba973bec5ec43b0a54be9994a115b6d4fc86d3",
   "display_name": "Python 3.7.7 64-bit ('tank': conda)"
  }
 },
 "nbformat": 4,
 "nbformat_minor": 2,
 "cells": [
  {
   "cell_type": "markdown",
   "source": [
    "# Power Density Data\n",
    "\n",
    "A power density database has been provided by Wilmarth, Stimac and Ganefiantio for inclusion in this repository and the application. \n",
    "\n",
    "Maxwell Wilmarth, James Stimac and Gugi Ganefianto (2020) Power Density in Geothermal Fields, 2020 Update, Proceedings World Geothermal Congress 2020+1, Reykjavik, Iceland, April - October 2021.\n",
    "\n",
    "Wilmarth, M. and Stimac, J.: Power Density In Geothermal Fields, Proceedings, World Geothermal Conference (2015).\n",
    "\n",
    "Database paramaters\n",
    "\n",
    "Power density is the power (MWe) per area (km2) that is generated. \n",
    "\n",
    "**Power capacity**\n",
    "\n",
    "The Wilmarth et al (2020, 2015) database uses net power output in MWe that is based on published data or information provided by the operating company directly to the authors. This contrasts with installed capacity, which is typically publicly reported and is included in the [Think Geoenergy power plant map](https://www.thinkgeoenergy.com/map/). The gap between installed capacity and net generation may be related to plant efficiency or parasitic load. Alternatively, resource factors may influence, such as pressure decline or enthalpy evolution, that means that the power plant does not generate at full capacity.  \n",
    "\n",
    "**Area**\n",
    "\n",
    "Wilmarth et al (2020, 2015) use 500 m buffer around the production wells to define the reserver area. This is important to keep in mind when using the power density plot for resource capacity estimates: The power density values can not be blindly applied to the full extent of the resistivity anomaly or even an area defined by the maximum extent of geothermal manifestations. Instead, the area of productive resource in the subsurface must be defined using a conceptual model, ideally with each of the P10, P50 and P90 areas considered.    \n",
    "\n",
    "**Average temperature**\n",
    "\n",
    "Geothermal resources contain a range of temperatures in the subsurface, their production temperature/enthalpy may evolve though time, and reliable reporting of resource temperature may be difficult to obtain. It is therefore unsurprising that Wilmarth et al. (2020) cites average reservoir temperature as the most difficult parameter to estimate. \n",
    "\n",
    "## Notebook purpose\n",
    "\n",
    "This notebook has been developed to explore the power density database and determine how best to plot the data in the Streamlit application. \n"
   ],
   "metadata": {}
  },
  {
   "cell_type": "code",
   "execution_count": 30,
   "source": [
    "import matplotlib.pyplot as plt\n",
    "import pandas as pd\n",
    "import numpy as np\n",
    "import seaborn as sns\n",
    "import openpyxl"
   ],
   "outputs": [],
   "metadata": {}
  },
  {
   "cell_type": "code",
   "execution_count": 31,
   "source": [
    "pddata = pd.read_excel(r'../PowerDensityDatabase_MWilmarth-JStimac-GGanefianto-2020-WGC-Data.xlsx', \n",
    "    sheet_name='Sheet1')\n",
    "pddata\n"
   ],
   "outputs": [
    {
     "output_type": "execute_result",
     "data": {
      "text/plain": [
       "                 Field  aveT_degC_2020  PwrDens_MWperkm2_2020  \\\n",
       "0           Ahuachapan             250              14.412513   \n",
       "1             Alasehir             185               7.782423   \n",
       "2            Amatitlán             285               7.692308   \n",
       "3               Amedee             107               1.230769   \n",
       "4              Bac-Man             269              10.204082   \n",
       "..                 ...             ...                    ...   \n",
       "103           Wineagle             110               0.538462   \n",
       "104           Yamagawa             305               6.102604   \n",
       "105  Yanaizu-Nishiyama             300               7.474571   \n",
       "106         Yangbajain             175               3.007048   \n",
       "107              Zunil             290              13.529412   \n",
       "\n",
       "    Tectonic_setting_2020  \n",
       "0                     Arc  \n",
       "1             Not on plot  \n",
       "2             Not on plot  \n",
       "3             Fault-based  \n",
       "4                     Arc  \n",
       "..                    ...  \n",
       "103           Fault-based  \n",
       "104                   Arc  \n",
       "105                   Arc  \n",
       "106                 Other  \n",
       "107                   Arc  \n",
       "\n",
       "[108 rows x 4 columns]"
      ],
      "text/html": [
       "<div>\n",
       "<style scoped>\n",
       "    .dataframe tbody tr th:only-of-type {\n",
       "        vertical-align: middle;\n",
       "    }\n",
       "\n",
       "    .dataframe tbody tr th {\n",
       "        vertical-align: top;\n",
       "    }\n",
       "\n",
       "    .dataframe thead th {\n",
       "        text-align: right;\n",
       "    }\n",
       "</style>\n",
       "<table border=\"1\" class=\"dataframe\">\n",
       "  <thead>\n",
       "    <tr style=\"text-align: right;\">\n",
       "      <th></th>\n",
       "      <th>Field</th>\n",
       "      <th>aveT_degC_2020</th>\n",
       "      <th>PwrDens_MWperkm2_2020</th>\n",
       "      <th>Tectonic_setting_2020</th>\n",
       "    </tr>\n",
       "  </thead>\n",
       "  <tbody>\n",
       "    <tr>\n",
       "      <th>0</th>\n",
       "      <td>Ahuachapan</td>\n",
       "      <td>250</td>\n",
       "      <td>14.412513</td>\n",
       "      <td>Arc</td>\n",
       "    </tr>\n",
       "    <tr>\n",
       "      <th>1</th>\n",
       "      <td>Alasehir</td>\n",
       "      <td>185</td>\n",
       "      <td>7.782423</td>\n",
       "      <td>Not on plot</td>\n",
       "    </tr>\n",
       "    <tr>\n",
       "      <th>2</th>\n",
       "      <td>Amatitlán</td>\n",
       "      <td>285</td>\n",
       "      <td>7.692308</td>\n",
       "      <td>Not on plot</td>\n",
       "    </tr>\n",
       "    <tr>\n",
       "      <th>3</th>\n",
       "      <td>Amedee</td>\n",
       "      <td>107</td>\n",
       "      <td>1.230769</td>\n",
       "      <td>Fault-based</td>\n",
       "    </tr>\n",
       "    <tr>\n",
       "      <th>4</th>\n",
       "      <td>Bac-Man</td>\n",
       "      <td>269</td>\n",
       "      <td>10.204082</td>\n",
       "      <td>Arc</td>\n",
       "    </tr>\n",
       "    <tr>\n",
       "      <th>...</th>\n",
       "      <td>...</td>\n",
       "      <td>...</td>\n",
       "      <td>...</td>\n",
       "      <td>...</td>\n",
       "    </tr>\n",
       "    <tr>\n",
       "      <th>103</th>\n",
       "      <td>Wineagle</td>\n",
       "      <td>110</td>\n",
       "      <td>0.538462</td>\n",
       "      <td>Fault-based</td>\n",
       "    </tr>\n",
       "    <tr>\n",
       "      <th>104</th>\n",
       "      <td>Yamagawa</td>\n",
       "      <td>305</td>\n",
       "      <td>6.102604</td>\n",
       "      <td>Arc</td>\n",
       "    </tr>\n",
       "    <tr>\n",
       "      <th>105</th>\n",
       "      <td>Yanaizu-Nishiyama</td>\n",
       "      <td>300</td>\n",
       "      <td>7.474571</td>\n",
       "      <td>Arc</td>\n",
       "    </tr>\n",
       "    <tr>\n",
       "      <th>106</th>\n",
       "      <td>Yangbajain</td>\n",
       "      <td>175</td>\n",
       "      <td>3.007048</td>\n",
       "      <td>Other</td>\n",
       "    </tr>\n",
       "    <tr>\n",
       "      <th>107</th>\n",
       "      <td>Zunil</td>\n",
       "      <td>290</td>\n",
       "      <td>13.529412</td>\n",
       "      <td>Arc</td>\n",
       "    </tr>\n",
       "  </tbody>\n",
       "</table>\n",
       "<p>108 rows × 4 columns</p>\n",
       "</div>"
      ]
     },
     "metadata": {},
     "execution_count": 31
    }
   ],
   "metadata": {}
  },
  {
   "cell_type": "code",
   "execution_count": 32,
   "source": [
    "# fit a first order polynomial (strait line) to all the data\n",
    "model_1d = np.poly1d(np.polyfit(pddata.aveT_degC_2020.values, pddata.PwrDens_MWperkm2_2020.values, 1))\n",
    "x_1dpoly = np.linspace(0, 350, 200)\n",
    "y_1dpoly = model_1d(x_1dpoly)\n",
    "\n",
    "# fit a second order polynomial to all the data\n",
    "model_2d = np.poly1d(np.polyfit(pddata.aveT_degC_2020.values, pddata.PwrDens_MWperkm2_2020.values, 2))\n",
    "x_2dpoly = np.linspace(0, 350, 200)\n",
    "y_2dpoly = model_2d(x_2dpoly)"
   ],
   "outputs": [],
   "metadata": {}
  },
  {
   "cell_type": "code",
   "execution_count": 33,
   "source": [
    "f = plt.figure()\n",
    "f.set_figwidth(8)\n",
    "f.set_figheight(6)\n",
    "\n",
    "#plt.scatter(pddata.aveT_degC_2020, pddata.PwrDens_MWperkm2_2020)\n",
    "ax = sns.scatterplot(x='aveT_degC_2020', y='PwrDens_MWperkm2_2020',\n",
    "    hue='Tectonic_setting_2020', \n",
    "    data=pddata)\n",
    "\n",
    "#plt.plot(x_1dpoly, y_1dpoly, \n",
    "#    ':', color = 'tab:green', label = '1st order fit')\n",
    "#plt.plot(x_2dpoly, y_2dpoly, \n",
    "#   '-', color = 'tab:green', label = '2nd order fit')\n",
    "\n",
    "plt.legend()\n",
    "ax.grid()\n",
    "\n",
    "plt.xlim(-5,400) # -50, 900\n",
    "plt.ylim(-1,50) # -5, 30\n",
    "\n",
    "plt.xlabel('Ave temp [degC]')\n",
    "plt.ylabel('Power density [MWe/km2]')"
   ],
   "outputs": [
    {
     "output_type": "execute_result",
     "data": {
      "text/plain": [
       "Text(0, 0.5, 'Power density [MWe/km2]')"
      ]
     },
     "metadata": {},
     "execution_count": 33
    },
    {
     "output_type": "display_data",
     "data": {
      "text/plain": [
       "<Figure size 576x432 with 1 Axes>"
      ],
      "image/png": "[encoded data removed]"
     },
     "metadata": {
      "needs_background": "light"
     }
    }
   ],
   "metadata": {}
  },
  {
   "cell_type": "markdown",
   "source": [
    "Fitting a trend line to this spread of data is not a good idea. Perhaps just present the raw data and point people to the Wilmarth et al (2020) paper for their interpretation. \n",
    "\n",
    "Things to do:\n",
    "- Double check the publication for those points classified 'not on plot'. Have I just missed them?\n",
    "- Then make a clickable plot for the streamlit app so we can see the field name\n",
    "- Perhaps also make a pick list so that the plot only shows specific fields you want to look at (\"my resource looks like these analogues, so please just show me these ones\")"
   ],
   "metadata": {}
  },
  {
   "cell_type": "code",
   "execution_count": 34,
   "source": [
    "pddata.Tectonic_setting_2020.unique()"
   ],
   "outputs": [
    {
     "output_type": "execute_result",
     "data": {
      "text/plain": [
       "array(['Arc', 'Not on plot', 'Fault-based', 'Rift', 'Other'], dtype=object)"
      ]
     },
     "metadata": {},
     "execution_count": 34
    }
   ],
   "metadata": {}
  },
  {
   "cell_type": "code",
   "execution_count": 35,
   "source": [
    "pddata_other = pddata[pddata.Tectonic_setting_2020 == 'Other']\n"
   ],
   "outputs": [],
   "metadata": {}
  },
  {
   "cell_type": "code",
   "execution_count": 36,
   "source": [
    "pddata_missing = pddata[pddata.Tectonic_setting_2020 == 'Not on plot']\n",
    "test = pddata_missing.sort_values(by=['aveT_degC_2020'])\n",
    "test.head(11)"
   ],
   "outputs": [
    {
     "output_type": "execute_result",
     "data": {
      "text/plain": [
       "                  Field  aveT_degC_2020  PwrDens_MWperkm2_2020  \\\n",
       "31              Husavik             125               1.483006   \n",
       "100              Umurlu             175               4.321377   \n",
       "1              Alasehir             185               7.782423   \n",
       "12   Cachaços-Lombadas              228               8.666667   \n",
       "74        Pico Vermelho             235               4.423077   \n",
       "6                Berlin             255              19.047488   \n",
       "11               Bulalo             270              19.084309   \n",
       "2             Amatitlán             285               7.692308   \n",
       "7           Bjarnarflag             300               1.217676   \n",
       "\n",
       "    Tectonic_setting_2020  \n",
       "31            Not on plot  \n",
       "100           Not on plot  \n",
       "1             Not on plot  \n",
       "12            Not on plot  \n",
       "74            Not on plot  \n",
       "6             Not on plot  \n",
       "11            Not on plot  \n",
       "2             Not on plot  \n",
       "7             Not on plot  "
      ],
      "text/html": [
       "<div>\n",
       "<style scoped>\n",
       "    .dataframe tbody tr th:only-of-type {\n",
       "        vertical-align: middle;\n",
       "    }\n",
       "\n",
       "    .dataframe tbody tr th {\n",
       "        vertical-align: top;\n",
       "    }\n",
       "\n",
       "    .dataframe thead th {\n",
       "        text-align: right;\n",
       "    }\n",
       "</style>\n",
       "<table border=\"1\" class=\"dataframe\">\n",
       "  <thead>\n",
       "    <tr style=\"text-align: right;\">\n",
       "      <th></th>\n",
       "      <th>Field</th>\n",
       "      <th>aveT_degC_2020</th>\n",
       "      <th>PwrDens_MWperkm2_2020</th>\n",
       "      <th>Tectonic_setting_2020</th>\n",
       "    </tr>\n",
       "  </thead>\n",
       "  <tbody>\n",
       "    <tr>\n",
       "      <th>31</th>\n",
       "      <td>Husavik</td>\n",
       "      <td>125</td>\n",
       "      <td>1.483006</td>\n",
       "      <td>Not on plot</td>\n",
       "    </tr>\n",
       "    <tr>\n",
       "      <th>100</th>\n",
       "      <td>Umurlu</td>\n",
       "      <td>175</td>\n",
       "      <td>4.321377</td>\n",
       "      <td>Not on plot</td>\n",
       "    </tr>\n",
       "    <tr>\n",
       "      <th>1</th>\n",
       "      <td>Alasehir</td>\n",
       "      <td>185</td>\n",
       "      <td>7.782423</td>\n",
       "      <td>Not on plot</td>\n",
       "    </tr>\n",
       "    <tr>\n",
       "      <th>12</th>\n",
       "      <td>Cachaços-Lombadas</td>\n",
       "      <td>228</td>\n",
       "      <td>8.666667</td>\n",
       "      <td>Not on plot</td>\n",
       "    </tr>\n",
       "    <tr>\n",
       "      <th>74</th>\n",
       "      <td>Pico Vermelho</td>\n",
       "      <td>235</td>\n",
       "      <td>4.423077</td>\n",
       "      <td>Not on plot</td>\n",
       "    </tr>\n",
       "    <tr>\n",
       "      <th>6</th>\n",
       "      <td>Berlin</td>\n",
       "      <td>255</td>\n",
       "      <td>19.047488</td>\n",
       "      <td>Not on plot</td>\n",
       "    </tr>\n",
       "    <tr>\n",
       "      <th>11</th>\n",
       "      <td>Bulalo</td>\n",
       "      <td>270</td>\n",
       "      <td>19.084309</td>\n",
       "      <td>Not on plot</td>\n",
       "    </tr>\n",
       "    <tr>\n",
       "      <th>2</th>\n",
       "      <td>Amatitlán</td>\n",
       "      <td>285</td>\n",
       "      <td>7.692308</td>\n",
       "      <td>Not on plot</td>\n",
       "    </tr>\n",
       "    <tr>\n",
       "      <th>7</th>\n",
       "      <td>Bjarnarflag</td>\n",
       "      <td>300</td>\n",
       "      <td>1.217676</td>\n",
       "      <td>Not on plot</td>\n",
       "    </tr>\n",
       "  </tbody>\n",
       "</table>\n",
       "</div>"
      ]
     },
     "metadata": {},
     "execution_count": 36
    }
   ],
   "metadata": {}
  },
  {
   "cell_type": "markdown",
   "source": [
    "## New Classification System\n",
    "\n",
    "There are many ways these fields may be split. This one is a proxy for spatial/temporal distance to heat source. \n",
    "\n",
    "- Volcanic – Arc andesite (Indonesia, Philippines) **V-andesite**\n",
    "- Volcanic – Basaltic-dominant mature rift or hotspot (Iceland, Hawaii) **V-basalt**\n",
    "- Volcanic – Silicic-dominant adolescent rift (NZ, Kenya etc) **V-rhyolite**\n",
    "- Deep-circulation – magmatic (waning volcanic centres or deep sourced, magmatic heat in immature rifts and extensional provinces, Great Basin edge, West Branch of EARS) **DC-magmatic**\n",
    "- Deep-circulation – amagmatic (extensional provinces with elevated heat flow, Great Basin) **DC-amagmatic**\n",
    "\n",
    "First pass: Those that are not clearly in category just make **TBC**\n"
   ],
   "metadata": {}
  },
  {
   "cell_type": "markdown",
   "source": [],
   "metadata": {}
  }
 ]
}