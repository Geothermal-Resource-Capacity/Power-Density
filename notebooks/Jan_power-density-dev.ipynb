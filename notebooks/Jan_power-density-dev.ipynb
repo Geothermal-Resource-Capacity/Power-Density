{
 "cells": [
  {
   "cell_type": "code",
   "execution_count": null,
   "metadata": {
    "code_folding": [
     6,
     37,
     59
    ]
   },
   "outputs": [],
   "source": [
    "import bqplot as bq\n",
    "import ipywidgets as widgets\n",
    "import numpy as np\n",
    "import pandas as pd\n",
    "\n",
    "\n",
    "def import_image(image_path):\n",
    "    \"\"\"Import the image of the plot\"\"\"\n",
    "    with open(image_path, 'rb') as fid:\n",
    "        raw_img = fid.read()\n",
    "\n",
    "    ipyimg = widgets.Image(value=raw_img, format=image_path[-3:])\n",
    "    return ipyimg\n",
    "\n",
    "\n",
    "def set_cs_dim(x_dim, z_dim):\n",
    "    \"\"\"Set the scale of the plot, i.e. min/max x, min/max y\"\"\"\n",
    "\n",
    "    scales = {'x': bq.LinearScale(min=np.min(x_dim), max=np.max(x_dim)),\n",
    "              'y': bq.LinearScale(min=np.min(z_dim), max=np.max(z_dim))}\n",
    "\n",
    "    return scales\n",
    "\n",
    "\n",
    "def add_del(scale, img):\n",
    "    \"\"\"Add function for ipywidget buttons to add and delete points\"\"\"\n",
    "\n",
    "    scat = bq.Scatter(x=[], y=[], scales=scale, colors=['orange'],\n",
    "                      enable_move=True)\n",
    "\n",
    "    image = bq.Image(x=np.array([scale['x'].min, scale['x'].max]),\n",
    "                     y=np.array([scale['y'].min, scale['y'].max]),\n",
    "                     image=img, scales=scale, enable_hover=False)\n",
    "\n",
    "    interact_control = widgets.ToggleButtons(options=['Add', 'Delete'],\n",
    "                                             style={'button_width': '130px'})\n",
    "\n",
    "    def change_interact(shape):\n",
    "        \"\"\"Give a meaning to the buttons.\"\"\"\n",
    "        interact_params = {\n",
    "            'Add': {'interactions': {'click': 'add'},\n",
    "                    'enable_move': True},\n",
    "            'Delete': {'interactions': {'click': 'delete'},\n",
    "                       'enable_move': False}\n",
    "        }\n",
    "\n",
    "        for param, value in interact_params[interact_control.value].items():\n",
    "            setattr(scat, param, value)\n",
    "    interact_control.observe(change_interact)\n",
    "\n",
    "    fig = bq.Figure(title='Cross-section', marks=[image, scat],\n",
    "                    padding_x=0, padding_y=0)\n",
    "    fig.axes = [bq.Axis(scale=scale['x']), bq.Axis(scale=scale['y'],\n",
    "                                                   orientation='vertical')]\n",
    "\n",
    "    return widgets.VBox([fig, interact_control])\n",
    "    # return widgets.HBox([widgets.VBox([fig, interact_control]),\n",
    "    #                    print(scat.x, scat.y)])\n",
    "\n",
    "def write_data(fig, profile_direction: str = 'x', formation: str = 'basement') -> pd.DataFrame:\n",
    "    \"\"\"Write picked data to a dataframe\n",
    "\n",
    "    Args:\n",
    "        fig (widget): widget object with coordinate data\n",
    "        profile_direction (string, optional): direction of profile. If 'x', 'y' will be set\n",
    "        to 1, if 'y', 'x' will be set to one. Defaults to 'x'.\n",
    "        formation (string, optional): Name of picked formation. Defaults to 'basement'.\n",
    "    \"\"\"\n",
    "    if profile_direction=='x':\n",
    "        x = fig.children[0].marks[1].x\n",
    "        y = np.ones_like(x)\n",
    "        z = fig.children[0].marks[1].y\n",
    "    elif profile_direction=='y':\n",
    "        y = fig.children[0].marks[1].x\n",
    "        x = np.ones_like(y)\n",
    "        z = fig.children[0].marks[1].y\n",
    "    df_dict = {'X':x, 'Y':y, 'Z':z, 'formation':formation}\n",
    "    df = pd.DataFrame.from_dict(df_dict)\n",
    "    \n",
    "    return df"
   ]
  }
 ],
 "metadata": {
  "kernelspec": {
   "display_name": "Python [conda env:env_datasci]",
   "language": "python",
   "name": "conda-env-env_datasci-py"
  },
  "language_info": {
   "codemirror_mode": {
    "name": "ipython",
    "version": 3
   },
   "file_extension": ".py",
   "mimetype": "text/x-python",
   "name": "python",
   "nbconvert_exporter": "python",
   "pygments_lexer": "ipython3",
   "version": "3.7.8"
  },
  "latex_envs": {
   "LaTeX_envs_menu_present": true,
   "autoclose": false,
   "autocomplete": true,
   "bibliofile": "biblio.bib",
   "cite_by": "apalike",
   "current_citInitial": 1,
   "eqLabelWithNumbers": true,
   "eqNumInitial": 1,
   "hotkeys": {
    "equation": "Ctrl-E",
    "itemize": "Ctrl-I"
   },
   "labels_anchors": false,
   "latex_user_defs": false,
   "report_style_numbering": false,
   "user_envs_cfg": false
  },
  "varInspector": {
   "cols": {
    "lenName": 16,
    "lenType": 16,
    "lenVar": 40
   },
   "kernels_config": {
    "python": {
     "delete_cmd_postfix": "",
     "delete_cmd_prefix": "del ",
     "library": "var_list.py",
     "varRefreshCmd": "print(var_dic_list())"
    },
    "r": {
     "delete_cmd_postfix": ") ",
     "delete_cmd_prefix": "rm(",
     "library": "var_list.r",
     "varRefreshCmd": "cat(var_dic_list()) "
    }
   },
   "types_to_exclude": [
    "module",
    "function",
    "builtin_function_or_method",
    "instance",
    "_Feature"
   ],
   "window_display": false
  }
 },
 "nbformat": 4,
 "nbformat_minor": 4
}
