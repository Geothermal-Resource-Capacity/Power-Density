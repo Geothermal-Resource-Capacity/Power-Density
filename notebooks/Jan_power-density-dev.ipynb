{
 "cells": [
  {
   "cell_type": "code",
   "execution_count": 30,
   "metadata": {},
   "outputs": [],
   "source": [
    "import bqplot as bq\n",
    "import ipywidgets as widgets\n",
    "import numpy as np\n",
    "import pandas as pd\n",
    "import matplotlib.pyplot as plt\n",
    "%matplotlib inline\n",
    "\n",
    "import scipy\n",
    "from scipy.stats import norm, lognorm\n",
    "\n",
    "import seaborn as sns\n",
    "sns.set_context('talk')\n",
    "sns.set_style('whitegrid')"
   ]
  },
  {
   "cell_type": "code",
   "execution_count": 2,
   "metadata": {
    "code_folding": [
     0,
     9,
     18,
     32,
     54
    ]
   },
   "outputs": [],
   "source": [
    "def import_image(image_path):\n",
    "    \"\"\"Import the image of the plot\"\"\"\n",
    "    with open(image_path, 'rb') as fid:\n",
    "        raw_img = fid.read()\n",
    "\n",
    "    ipyimg = widgets.Image(value=raw_img, format=image_path[-3:])\n",
    "    return ipyimg\n",
    "\n",
    "\n",
    "def set_image_dim(x_dim, y_dim):\n",
    "    \"\"\"Set the scale of the plot, i.e. min/max x, min/max y\"\"\"\n",
    "\n",
    "    scales = {'x': bq.LinearScale(min=np.min(x_dim), max=np.max(x_dim)),\n",
    "              'y': bq.LinearScale(min=np.min(y_dim), max=np.max(y_dim))}\n",
    "\n",
    "    return scales\n",
    "\n",
    "\n",
    "def add_del(scale, img):\n",
    "    \"\"\"Add function for ipywidget buttons to add and delete points\"\"\"\n",
    "\n",
    "    scat = bq.Scatter(x=[], y=[], scales=scale, colors=['black'],\n",
    "                      enable_move=True)\n",
    "\n",
    "    image = bq.Image(x=np.array([scale['x'].min, scale['x'].max]),\n",
    "                     y=np.array([scale['y'].min, scale['y'].max]),\n",
    "                     image=img, scales=scale, enable_hover=False)\n",
    "\n",
    "    interact_control = widgets.ToggleButtons(options=['Add', 'Delete'],\n",
    "                                             style={'button_width': '130px',\n",
    "                                                   'button_style': 'warning'})\n",
    "\n",
    "    def change_interact(shape):\n",
    "        \"\"\"Give a meaning to the buttons.\"\"\"\n",
    "        interact_params = {\n",
    "            'Add': {'interactions': {'click': 'add'},\n",
    "                    'enable_move': True},\n",
    "            'Delete': {'interactions': {'click': 'delete'},\n",
    "                       'enable_move': False}\n",
    "        }\n",
    "\n",
    "        for param, value in interact_params[interact_control.value].items():\n",
    "            setattr(scat, param, value)\n",
    "    interact_control.observe(change_interact)\n",
    "\n",
    "    fig = bq.Figure(title='Plot Temp vs Powerdensity', marks=[image, scat],\n",
    "                    padding_x=0, padding_y=0)\n",
    "    fig.axes = [bq.Axis(scale=scale['x']), bq.Axis(scale=scale['y'],\n",
    "                                                   orientation='vertical')]\n",
    "\n",
    "    return widgets.VBox([fig, interact_control])\n",
    "    # return widgets.HBox([widgets.VBox([fig, interact_control]),\n",
    "    #                    print(scat.x, scat.y)])\n",
    "\n",
    "def write_data(fig, profile_direction: str = 'x', formation: str = 'basement') -> pd.DataFrame:\n",
    "    \"\"\"Write picked data to a dataframe\n",
    "\n",
    "    Args:\n",
    "        fig (widget): widget object with coordinate data\n",
    "        profile_direction (string, optional): direction of profile. If 'x', 'y' will be set\n",
    "        to 1, if 'y', 'x' will be set to one. Defaults to 'x'.\n",
    "        formation (string, optional): Name of picked formation. Defaults to 'basement'.\n",
    "    \"\"\"\n",
    "    \n",
    "    x = fig.children[0].marks[1].x\n",
    "    y = fig.children[0].marks[1].y\n",
    "        \n",
    "    df_dict = {'Temp[Celsius]':x, 'PowerDens [MW/sqkm]':y}\n",
    "    df = pd.DataFrame.from_dict(df_dict)\n",
    "    \n",
    "    return df"
   ]
  },
  {
   "cell_type": "markdown",
   "metadata": {},
   "source": [
    "## Import the Image and set its dimensions"
   ]
  },
  {
   "cell_type": "code",
   "execution_count": 3,
   "metadata": {},
   "outputs": [],
   "source": [
    "img = import_image('../figures/wilmarth_2019_noborders.PNG')"
   ]
  },
  {
   "cell_type": "code",
   "execution_count": 4,
   "metadata": {},
   "outputs": [],
   "source": [
    "xdim = np.array([75., 350.]) # temperature from 75 °C to 350 °C\n",
    "ydim = np.array([0., 45.]) # PowerDensity in MW per square km\n",
    "dimensions = set_image_dim(xdim, ydim)"
   ]
  },
  {
   "cell_type": "code",
   "execution_count": 5,
   "metadata": {},
   "outputs": [],
   "source": [
    "# create figure object\n",
    "click_fig = add_del(dimensions, img)"
   ]
  },
  {
   "cell_type": "code",
   "execution_count": 6,
   "metadata": {},
   "outputs": [
    {
     "data": {
      "application/vnd.jupyter.widget-view+json": {
       "model_id": "e3851db0eb394273afc7bf7680303e1f",
       "version_major": 2,
       "version_minor": 0
      },
      "text/plain": [
       "VBox(children=(Figure(axes=[Axis(scale=LinearScale(max=350.0, min=75.0), side='bottom'), Axis(orientation='ver…"
      ]
     },
     "metadata": {},
     "output_type": "display_data"
    }
   ],
   "source": [
    "click_fig"
   ]
  },
  {
   "cell_type": "code",
   "execution_count": 39,
   "metadata": {},
   "outputs": [],
   "source": [
    "img_output = write_data(click_fig)"
   ]
  },
  {
   "cell_type": "code",
   "execution_count": 40,
   "metadata": {},
   "outputs": [
    {
     "data": {
      "text/html": [
       "<div>\n",
       "<style scoped>\n",
       "    .dataframe tbody tr th:only-of-type {\n",
       "        vertical-align: middle;\n",
       "    }\n",
       "\n",
       "    .dataframe tbody tr th {\n",
       "        vertical-align: top;\n",
       "    }\n",
       "\n",
       "    .dataframe thead th {\n",
       "        text-align: right;\n",
       "    }\n",
       "</style>\n",
       "<table border=\"1\" class=\"dataframe\">\n",
       "  <thead>\n",
       "    <tr style=\"text-align: right;\">\n",
       "      <th></th>\n",
       "      <th>Temp[Celsius]</th>\n",
       "      <th>PowerDens [MW/sqkm]</th>\n",
       "    </tr>\n",
       "  </thead>\n",
       "  <tbody>\n",
       "    <tr>\n",
       "      <th>0</th>\n",
       "      <td>279.927510</td>\n",
       "      <td>14.661428</td>\n",
       "    </tr>\n",
       "    <tr>\n",
       "      <th>1</th>\n",
       "      <td>277.665022</td>\n",
       "      <td>31.375713</td>\n",
       "    </tr>\n",
       "  </tbody>\n",
       "</table>\n",
       "</div>"
      ],
      "text/plain": [
       "   Temp[Celsius]  PowerDens [MW/sqkm]\n",
       "0     279.927510            14.661428\n",
       "1     277.665022            31.375713"
      ]
     },
     "execution_count": 40,
     "metadata": {},
     "output_type": "execute_result"
    }
   ],
   "source": [
    "img_output"
   ]
  },
  {
   "cell_type": "code",
   "execution_count": 41,
   "metadata": {},
   "outputs": [],
   "source": [
    "lowerPD, higherPD = np.array([img_output['PowerDens [MW/sqkm]'].argmin(),\n",
    "                     img_output['PowerDens [MW/sqkm]'].argmax()])"
   ]
  },
  {
   "cell_type": "markdown",
   "metadata": {},
   "source": [
    "# Hannah's implementation"
   ]
  },
  {
   "cell_type": "code",
   "execution_count": 42,
   "metadata": {
    "code_folding": [
     0
    ]
   },
   "outputs": [
    {
     "name": "stdout",
     "output_type": "stream",
     "text": [
      "Probability of exploration success = 47%\n"
     ]
    }
   ],
   "source": [
    "# USER INPUT REQUIRED\n",
    "Ptemp = 0.8\n",
    "Pperm = 0.65\n",
    "Pchem = 0.9\n",
    "\n",
    "POSexpl = Ptemp * Pperm * Pchem\n",
    "print(\"Probability of exploration success = {:.0f}%\".format(POSexpl*100))\n",
    "# Could potentially code in user option to adjust number of decimal places for POS"
   ]
  },
  {
   "cell_type": "code",
   "execution_count": 43,
   "metadata": {
    "code_folding": [
     0
    ]
   },
   "outputs": [],
   "source": [
    "# USER INPUT REQUIRED\n",
    "#Cumulative confidence of optimistic case\n",
    "Opt_case = 0.1"
   ]
  },
  {
   "cell_type": "code",
   "execution_count": 44,
   "metadata": {
    "code_folding": [
     0
    ]
   },
   "outputs": [
    {
     "name": "stdout",
     "output_type": "stream",
     "text": [
      "Startup temperature P90 278.80 °C, \n",
      "Min temperature for P10 250.00 °C\n"
     ]
    }
   ],
   "source": [
    "# USER INPUT REQUIRED\n",
    "Tmax_P90 = np.mean(img_output['Temp[Celsius]']) #startup averages temperature for P90 reserves (degrees C)\n",
    "Tmin = 250 #minimum temperature for the P10 reservoir (degrees C)\n",
    "print(\"Startup temperature P90 {:.2f} °C, \\nMin temperature for P10 {:.2f} °C\".format(*[Tmax_P90,Tmin]))"
   ]
  },
  {
   "cell_type": "code",
   "execution_count": 45,
   "metadata": {
    "code_folding": [
     0
    ]
   },
   "outputs": [],
   "source": [
    "# USER INPUT REQUIRED\n",
    "# Power Density 250 to 280 deg C (MWe/km2)\n",
    "PowerDens_P90 = img_output['PowerDens [MW/sqkm]'].iloc[lowerPD]\n",
    "PowerDens_P10 = img_output['PowerDens [MW/sqkm]'].iloc[higherPD]"
   ]
  },
  {
   "cell_type": "code",
   "execution_count": 46,
   "metadata": {
    "code_folding": [
     0
    ]
   },
   "outputs": [],
   "source": [
    "# USER INPUT REQUIRED\n",
    "# Area > 250 deg C in km2\n",
    "Area_P90 = 1\n",
    "Area_P10 = 10"
   ]
  },
  {
   "cell_type": "code",
   "execution_count": 47,
   "metadata": {
    "code_folding": []
   },
   "outputs": [
    {
     "name": "stdout",
     "output_type": "stream",
     "text": [
      "Mean area is 1.1513 km²\n",
      "Variance of area is 0.8984 km²$\n"
     ]
    }
   ],
   "source": [
    "# Calculate nu and sigma for area > 250 degC (the mean and variance in log units required for specifying lognormal distributions)\n",
    "area_nu = ((np.log(Area_P90)+np.log(Area_P10))/2)\n",
    "print(\"Mean area is {:.4f} km²\".format(area_nu))\n",
    "\n",
    "area_sigma = (np.log(Area_P10)-np.log(Area_P90))/((norm.ppf(1-Opt_case)-(norm.ppf(Opt_case))))\n",
    "print(\"Variance of area is {:.4f} km²$\".format(area_sigma))"
   ]
  },
  {
   "cell_type": "code",
   "execution_count": 48,
   "metadata": {
    "code_folding": []
   },
   "outputs": [
    {
     "name": "stdout",
     "output_type": "stream",
     "text": [
      "Mean power density is 3.0656\n",
      "Variance of power density is 0.2968\n"
     ]
    }
   ],
   "source": [
    "# Calculate nu and sigma for power density (the mean and variance in log units required for specifying lognormal distributions)\n",
    "powerdens_nu = ((np.log(PowerDens_P90)+np.log(PowerDens_P10))/2)\n",
    "print(\"Mean power density is {:.4f}\".format(powerdens_nu))\n",
    "\n",
    "powerdens_sigma = (np.log(PowerDens_P10)-np.log(PowerDens_P90))/((norm.ppf(1-Opt_case)-(norm.ppf(Opt_case))))\n",
    "print(\"Variance of power density is {:.4f}\".format(powerdens_sigma))"
   ]
  },
  {
   "cell_type": "code",
   "execution_count": 49,
   "metadata": {
    "code_folding": []
   },
   "outputs": [
    {
     "name": "stdout",
     "output_type": "stream",
     "text": [
      "Mean capacity is 4.2169 MWe\n",
      "Variance capacity is 0.9461 MWe\n"
     ]
    }
   ],
   "source": [
    "# Calculate nu and sigma for MWe Capacity\n",
    "capacity_nu = area_nu + powerdens_nu\n",
    "print(\"Mean capacity is {:.4f} MWe\".format(capacity_nu))\n",
    "\n",
    "capacity_sigma = ((area_sigma**2)+(powerdens_sigma**2))**0.5\n",
    "print(\"Variance capacity is {:.4f} MWe\".format(capacity_sigma))"
   ]
  },
  {
   "cell_type": "code",
   "execution_count": 50,
   "metadata": {
    "code_folding": [
     0
    ]
   },
   "outputs": [],
   "source": [
    "# Calculate cumulative confidence curve for expected power capacity (epc)\n",
    "\n",
    "prob = [0.1]\n",
    "expected_power_capacity=[]\n",
    "expected_development_size=[]\n",
    "prob_desc = []\n",
    "\n",
    "# Specify probability range\n",
    "for i in range(1,100):\n",
    "    prob.append(i)\n",
    "\n",
    "for j in prob:\n",
    "    # Calculate expected development size distribution\n",
    "    eds = lognorm.ppf(j/100, capacity_sigma, loc=0, scale=np.exp(capacity_nu))\n",
    "    expected_development_size.append(eds)\n",
    "    # Calculate power capacity distribution\n",
    "    epc = eds*POSexpl\n",
    "    expected_power_capacity.append(epc)\n",
    "    # Calculate 100-prob for plotting descending cumulative probability\n",
    "    desc = 100-j\n",
    "    prob_desc.append(desc)\n",
    "    # Print results"
   ]
  },
  {
   "cell_type": "code",
   "execution_count": 51,
   "metadata": {
    "code_folding": [
     0
    ]
   },
   "outputs": [
    {
     "data": {
      "image/png": "[encoded data removed]",
      "text/plain": [
       "<Figure size 1080x360 with 2 Axes>"
      ]
     },
     "metadata": {},
     "output_type": "display_data"
    }
   ],
   "source": [
    "# Plot it\n",
    "fig, axs = plt.subplots(1,2, figsize=[15, 5], sharey=True)\n",
    "\n",
    "# Plot power capacity cumulative distribution\n",
    "axs[0].plot(expected_power_capacity, prob_desc)\n",
    "axs[0].set_xlabel(\"Expected Power Capacity (MWe potential reserves)\")\n",
    "axs[0].set_ylabel(\"Cumulative Confidence %\")\n",
    "axs[0].set_title(\"Cumulative Confidence in Power Capacity\")\n",
    "axs[0].set_xlim([0, 350])\n",
    "axs[0].set_ylim([0, 100])\n",
    "\n",
    "# Plot expected development size cumulative distribution\n",
    "axs[1].plot(expected_development_size, prob_desc)\n",
    "axs[1].set_xlabel(\"Expected Development Size (MW)\")\n",
    "axs[1].set_title(\"Cumulative Confidence in Developed Reservoir Size\")\n",
    "axs[1].set_xlim([0, 650])\n",
    "axs[1].set_ylim([0, 100]);"
   ]
  }
 ],
 "metadata": {
  "kernelspec": {
   "display_name": "Python [conda env:env_geothack]",
   "language": "python",
   "name": "conda-env-env_geothack-py"
  },
  "language_info": {
   "codemirror_mode": {
    "name": "ipython",
    "version": 3
   },
   "file_extension": ".py",
   "mimetype": "text/x-python",
   "name": "python",
   "nbconvert_exporter": "python",
   "pygments_lexer": "ipython3",
   "version": "3.8.10"
  },
  "latex_envs": {
   "LaTeX_envs_menu_present": true,
   "autoclose": false,
   "autocomplete": true,
   "bibliofile": "biblio.bib",
   "cite_by": "apalike",
   "current_citInitial": 1,
   "eqLabelWithNumbers": true,
   "eqNumInitial": 1,
   "hotkeys": {
    "equation": "Ctrl-E",
    "itemize": "Ctrl-I"
   },
   "labels_anchors": false,
   "latex_user_defs": false,
   "report_style_numbering": false,
   "user_envs_cfg": false
  },
  "varInspector": {
   "cols": {
    "lenName": 16,
    "lenType": 16,
    "lenVar": 40
   },
   "kernels_config": {
    "python": {
     "delete_cmd_postfix": "",
     "delete_cmd_prefix": "del ",
     "library": "var_list.py",
     "varRefreshCmd": "print(var_dic_list())"
    },
    "r": {
     "delete_cmd_postfix": ") ",
     "delete_cmd_prefix": "rm(",
     "library": "var_list.r",
     "varRefreshCmd": "cat(var_dic_list()) "
    }
   },
   "types_to_exclude": [
    "module",
    "function",
    "builtin_function_or_method",
    "instance",
    "_Feature"
   ],
   "window_display": false
  }
 },
 "nbformat": 4,
 "nbformat_minor": 4
}
