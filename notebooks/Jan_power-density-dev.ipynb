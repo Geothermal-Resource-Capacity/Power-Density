{
 "cells": [
  {
   "cell_type": "code",
   "execution_count": 1,
   "metadata": {},
   "outputs": [],
   "source": [
    "import bqplot as bq\n",
    "import ipywidgets as widgets\n",
    "import numpy as np\n",
    "import pandas as pd"
   ]
  },
  {
   "cell_type": "code",
   "execution_count": 27,
   "metadata": {
    "code_folding": [
     0,
     9,
     18,
     32
    ]
   },
   "outputs": [],
   "source": [
    "def import_image(image_path):\n",
    "    \"\"\"Import the image of the plot\"\"\"\n",
    "    with open(image_path, 'rb') as fid:\n",
    "        raw_img = fid.read()\n",
    "\n",
    "    ipyimg = widgets.Image(value=raw_img, format=image_path[-3:])\n",
    "    return ipyimg\n",
    "\n",
    "\n",
    "def set_image_dim(x_dim, y_dim):\n",
    "    \"\"\"Set the scale of the plot, i.e. min/max x, min/max y\"\"\"\n",
    "\n",
    "    scales = {'x': bq.LinearScale(min=np.min(x_dim), max=np.max(x_dim)),\n",
    "              'y': bq.LinearScale(min=np.min(y_dim), max=np.max(y_dim))}\n",
    "\n",
    "    return scales\n",
    "\n",
    "\n",
    "def add_del(scale, img):\n",
    "    \"\"\"Add function for ipywidget buttons to add and delete points\"\"\"\n",
    "\n",
    "    scat = bq.Scatter(x=[], y=[], scales=scale, colors=['black'],\n",
    "                      enable_move=True)\n",
    "\n",
    "    image = bq.Image(x=np.array([scale['x'].min, scale['x'].max]),\n",
    "                     y=np.array([scale['y'].min, scale['y'].max]),\n",
    "                     image=img, scales=scale, enable_hover=False)\n",
    "\n",
    "    interact_control = widgets.ToggleButtons(options=['Add', 'Delete'],\n",
    "                                             style={'button_width': '130px',\n",
    "                                                   'button_style': 'warning'})\n",
    "\n",
    "    def change_interact(shape):\n",
    "        \"\"\"Give a meaning to the buttons.\"\"\"\n",
    "        interact_params = {\n",
    "            'Add': {'interactions': {'click': 'add'},\n",
    "                    'enable_move': True},\n",
    "            'Delete': {'interactions': {'click': 'delete'},\n",
    "                       'enable_move': False}\n",
    "        }\n",
    "\n",
    "        for param, value in interact_params[interact_control.value].items():\n",
    "            setattr(scat, param, value)\n",
    "    interact_control.observe(change_interact)\n",
    "\n",
    "    fig = bq.Figure(title='Plot Temp vs Powerdensity', marks=[image, scat],\n",
    "                    padding_x=0, padding_y=0)\n",
    "    fig.axes = [bq.Axis(scale=scale['x']), bq.Axis(scale=scale['y'],\n",
    "                                                   orientation='vertical')]\n",
    "\n",
    "    return widgets.VBox([fig, interact_control])\n",
    "    # return widgets.HBox([widgets.VBox([fig, interact_control]),\n",
    "    #                    print(scat.x, scat.y)])\n",
    "\n",
    "def write_data(fig, profile_direction: str = 'x', formation: str = 'basement') -> pd.DataFrame:\n",
    "    \"\"\"Write picked data to a dataframe\n",
    "\n",
    "    Args:\n",
    "        fig (widget): widget object with coordinate data\n",
    "        profile_direction (string, optional): direction of profile. If 'x', 'y' will be set\n",
    "        to 1, if 'y', 'x' will be set to one. Defaults to 'x'.\n",
    "        formation (string, optional): Name of picked formation. Defaults to 'basement'.\n",
    "    \"\"\"\n",
    "    \n",
    "    x = fig.children[0].marks[1].x\n",
    "    y = fig.children[0].marks[1].y\n",
    "        \n",
    "    df_dict = {'Temp[Celsius]':x, 'PowerDens [MW/sqkm]':y}\n",
    "    df = pd.DataFrame.from_dict(df_dict)\n",
    "    \n",
    "    return df"
   ]
  },
  {
   "cell_type": "markdown",
   "metadata": {},
   "source": [
    "## Import the Image and set its dimensions"
   ]
  },
  {
   "cell_type": "code",
   "execution_count": 28,
   "metadata": {},
   "outputs": [],
   "source": [
    "img = import_image('../figures/wilmarth_2019_noborders.PNG')"
   ]
  },
  {
   "cell_type": "code",
   "execution_count": 29,
   "metadata": {},
   "outputs": [],
   "source": [
    "xdim = np.array([75., 350.]) # temperature from 75 °C to 350 °C\n",
    "ydim = np.array([0., 45.]) # PowerDensity in MW per square km\n",
    "dimensions = set_image_dim(xdim, ydim)"
   ]
  },
  {
   "cell_type": "code",
   "execution_count": 30,
   "metadata": {},
   "outputs": [],
   "source": [
    "# create figure object\n",
    "click_fig = add_del(dimensions, img)"
   ]
  },
  {
   "cell_type": "code",
   "execution_count": 31,
   "metadata": {},
   "outputs": [
    {
     "data": {
      "application/vnd.jupyter.widget-view+json": {
       "model_id": "1ca601441ae14e2a8779312b209cc856",
       "version_major": 2,
       "version_minor": 0
      },
      "text/plain": [
       "VBox(children=(Figure(axes=[Axis(scale=LinearScale(max=350.0, min=75.0), side='bottom'), Axis(orientation='ver…"
      ]
     },
     "metadata": {},
     "output_type": "display_data"
    }
   ],
   "source": [
    "click_fig"
   ]
  },
  {
   "cell_type": "code",
   "execution_count": 32,
   "metadata": {},
   "outputs": [
    {
     "data": {
      "text/html": [
       "<div>\n",
       "<style scoped>\n",
       "    .dataframe tbody tr th:only-of-type {\n",
       "        vertical-align: middle;\n",
       "    }\n",
       "\n",
       "    .dataframe tbody tr th {\n",
       "        vertical-align: top;\n",
       "    }\n",
       "\n",
       "    .dataframe thead th {\n",
       "        text-align: right;\n",
       "    }\n",
       "</style>\n",
       "<table border=\"1\" class=\"dataframe\">\n",
       "  <thead>\n",
       "    <tr style=\"text-align: right;\">\n",
       "      <th></th>\n",
       "      <th>Temp[Celsius]</th>\n",
       "      <th>PowerDens [MW/sqkm]</th>\n",
       "    </tr>\n",
       "  </thead>\n",
       "  <tbody>\n",
       "    <tr>\n",
       "      <th>0</th>\n",
       "      <td>222.395681</td>\n",
       "      <td>3.672859</td>\n",
       "    </tr>\n",
       "    <tr>\n",
       "      <th>1</th>\n",
       "      <td>222.718893</td>\n",
       "      <td>16.401430</td>\n",
       "    </tr>\n",
       "  </tbody>\n",
       "</table>\n",
       "</div>"
      ],
      "text/plain": [
       "   Temp[Celsius]  PowerDens [MW/sqkm]\n",
       "0     222.395681             3.672859\n",
       "1     222.718893            16.401430"
      ]
     },
     "execution_count": 32,
     "metadata": {},
     "output_type": "execute_result"
    }
   ],
   "source": [
    "write_data(click_fig)"
   ]
  }
 ],
 "metadata": {
  "kernelspec": {
   "display_name": "Python [conda env:env_geothack]",
   "language": "python",
   "name": "conda-env-env_geothack-py"
  },
  "language_info": {
   "codemirror_mode": {
    "name": "ipython",
    "version": 3
   },
   "file_extension": ".py",
   "mimetype": "text/x-python",
   "name": "python",
   "nbconvert_exporter": "python",
   "pygments_lexer": "ipython3",
   "version": "3.8.10"
  },
  "latex_envs": {
   "LaTeX_envs_menu_present": true,
   "autoclose": false,
   "autocomplete": true,
   "bibliofile": "biblio.bib",
   "cite_by": "apalike",
   "current_citInitial": 1,
   "eqLabelWithNumbers": true,
   "eqNumInitial": 1,
   "hotkeys": {
    "equation": "Ctrl-E",
    "itemize": "Ctrl-I"
   },
   "labels_anchors": false,
   "latex_user_defs": false,
   "report_style_numbering": false,
   "user_envs_cfg": false
  },
  "varInspector": {
   "cols": {
    "lenName": 16,
    "lenType": 16,
    "lenVar": 40
   },
   "kernels_config": {
    "python": {
     "delete_cmd_postfix": "",
     "delete_cmd_prefix": "del ",
     "library": "var_list.py",
     "varRefreshCmd": "print(var_dic_list())"
    },
    "r": {
     "delete_cmd_postfix": ") ",
     "delete_cmd_prefix": "rm(",
     "library": "var_list.r",
     "varRefreshCmd": "cat(var_dic_list()) "
    }
   },
   "types_to_exclude": [
    "module",
    "function",
    "builtin_function_or_method",
    "instance",
    "_Feature"
   ],
   "window_display": false
  }
 },
 "nbformat": 4,
 "nbformat_minor": 4
}
