{
 "cells": [
  {
   "cell_type": "markdown",
   "metadata": {},
   "source": [
    "## Prototype plotly plot for web app\n"
   ]
  },
  {
   "cell_type": "code",
   "execution_count": 20,
   "metadata": {},
   "outputs": [],
   "source": [
    "from plotly.subplots import make_subplots\n",
    "import plotly.graph_objects as go\n",
    "import plotly.express as px\n",
    "import plotly.offline as py\n",
    "import pandas as pd"
   ]
  },
  {
   "cell_type": "code",
   "execution_count": 21,
   "metadata": {},
   "outputs": [],
   "source": [
    "database = pd.read_csv(r'../data/PowerDensityDatabase_Expanded.csv')"
   ]
  },
  {
   "cell_type": "code",
   "execution_count": 22,
   "metadata": {},
   "outputs": [
    {
     "name": "stdout",
     "output_type": "stream",
     "text": [
      "<class 'pandas.core.frame.DataFrame'>\n",
      "RangeIndex: 108 entries, 0 to 107\n",
      "Data columns (total 6 columns):\n",
      " #   Column                      Non-Null Count  Dtype  \n",
      "---  ------                      --------------  -----  \n",
      " 0   Field                       108 non-null    object \n",
      " 1   Average temperature [degC]  108 non-null    int64  \n",
      " 2   Power density [MWe/km2]     108 non-null    float64\n",
      " 3   Tectonic setting            99 non-null     object \n",
      " 4   System type                 108 non-null    object \n",
      " 5   Enthalpy classification     108 non-null    object \n",
      "dtypes: float64(1), int64(1), object(4)\n",
      "memory usage: 5.2+ KB\n"
     ]
    }
   ],
   "source": [
    "database.info()"
   ]
  },
  {
   "cell_type": "code",
   "execution_count": 23,
   "metadata": {},
   "outputs": [
    {
     "data": {
      "text/plain": [
       "Index(['Field', 'Average temperature [degC]', 'Power density [MWe/km2]',\n",
       "       'Tectonic setting', 'System type', 'Enthalpy classification'],\n",
       "      dtype='object')"
      ]
     },
     "execution_count": 23,
     "metadata": {},
     "output_type": "execute_result"
    }
   ],
   "source": [
    "database.columns"
   ]
  },
  {
   "cell_type": "code",
   "execution_count": 25,
   "metadata": {},
   "outputs": [
    {
     "data": {
      "application/vnd.plotly.v1+json": {
       "config": {
        "plotlyServerURL": "https://plot.ly"
       },
       "data": [
        {
         "customdata": [
          [
           "Ahuachapan",
           "Arc",
           "Two-phase - liquid dominated"
          ],
          [
           "Bac-Man",
           "Arc",
           "Two-phase - liquid dominated"
          ],
          [
           "Bouillante",
           "Arc",
           "Two-phase - liquid dominated"
          ],
          [
           "Darajat",
           "Arc",
           "Vapor dominated"
          ],
          [
           "Dieng",
           "Arc",
           "Two-phase - liquid dominated"
          ],
          [
           "Domo San Pedro",
           "Arc",
           "Two-phase - liquid dominated"
          ],
          [
           "Gunung Patuha",
           "Arc",
           "Two-phase - liquid dominated"
          ],
          [
           "Hachijo-jima",
           "Arc",
           "Two-phase - liquid dominated"
          ],
          [
           "Hatchobaru",
           "Arc",
           "Two-phase - liquid dominated"
          ],
          [
           "Kakkonda",
           "Arc",
           "Two-phase - liquid dominated"
          ],
          [
           "Kamojang",
           "Arc",
           "Vapor dominated"
          ],
          [
           "Karaha",
           "Arc",
           "Two-phase - liquid dominated"
          ],
          [
           "Lahendong",
           "Arc",
           "Two-phase - liquid dominated"
          ],
          [
           "Las Pailas",
           "Arc",
           "Two-phase - liquid dominated"
          ],
          [
           "Las Tres Virgenes",
           "Arc",
           "Two-phase - liquid dominated"
          ],
          [
           "Lihir",
           "Arc",
           "Two-phase - liquid dominated"
          ],
          [
           "Los Azufres",
           "Arc",
           "Two-phase - liquid dominated"
          ],
          [
           "Los Humeros",
           "Arc",
           "Two-phase - liquid dominated"
          ],
          [
           "Mahanagdong",
           "Arc",
           "Two-phase - liquid dominated"
          ],
          [
           "Maibarara",
           "Arc",
           "Two-phase - liquid dominated"
          ],
          [
           "Mataloko",
           "Arc",
           "Two-phase - liquid dominated"
          ],
          [
           "Matsukawa",
           "Arc",
           "Two-phase - liquid dominated"
          ],
          [
           "Miravalles",
           "Arc",
           "Two-phase - liquid dominated"
          ],
          [
           "Momotombo",
           "Arc",
           "Two-phase - liquid dominated"
          ],
          [
           "Mori",
           "Arc",
           "Two-phase - liquid dominated"
          ],
          [
           "Mt. Apo ",
           "Arc",
           "Two-phase - liquid dominated"
          ],
          [
           "Mutnovsky",
           "Arc",
           "Two-phase - liquid dominated"
          ],
          [
           "Ogiri",
           "Arc",
           "Two-phase - liquid dominated"
          ],
          [
           "Oguni",
           "Arc",
           "Two-phase - liquid dominated"
          ],
          [
           "Onikobe",
           "Arc",
           "Two-phase - liquid dominated"
          ],
          [
           "Onuma",
           "Arc",
           "Two-phase - liquid dominated"
          ],
          [
           "Otake",
           "Arc",
           "Hot water - intermediate temperature"
          ],
          [
           "Palinpinon",
           "Arc",
           "Two-phase - liquid dominated"
          ],
          [
           "Pauzetksky",
           "Arc",
           "Hot water - intermediate temperature"
          ],
          [
           "Piancastagnaio",
           "Arc",
           "Two-phase - liquid dominated"
          ],
          [
           "Platanares",
           "Arc",
           "Hot water - intermediate temperature"
          ],
          [
           "Salak",
           "Arc",
           "Two-phase - liquid dominated"
          ],
          [
           "San Jacinto",
           "Arc",
           "Two-phase - liquid dominated"
          ],
          [
           "Sibayak",
           "Arc",
           "Two-phase - liquid dominated"
          ],
          [
           "Silangkitang",
           "Arc",
           "Two-phase - liquid dominated"
          ],
          [
           "Suginoi",
           "Arc",
           "Hot water - intermediate temperature"
          ],
          [
           "Sumikawa",
           "Arc",
           "Two-phase - liquid dominated"
          ],
          [
           "Takigami",
           "Arc",
           "Two-phase - liquid dominated"
          ],
          [
           "Tiwi",
           "Arc",
           "Two-phase - liquid dominated"
          ],
          [
           "Tongonan",
           "Arc",
           "Two-phase - liquid dominated"
          ],
          [
           "Uenotai",
           "Arc",
           "Two-phase - liquid dominated"
          ],
          [
           "Ulumbu",
           "Arc",
           "Two-phase - liquid dominated"
          ],
          [
           "Wayang Windu",
           "Arc",
           "Two-phase - liquid dominated"
          ],
          [
           "Yamagawa",
           "Arc",
           "Two-phase - liquid dominated"
          ],
          [
           "Yanaizu-Nishiyama",
           "Arc",
           "Two-phase - liquid dominated"
          ],
          [
           "Zunil",
           "Arc",
           "Two-phase - liquid dominated"
          ]
         ],
         "hovertemplate": "System type=%{customdata[1]}<br>Average temperature [degC]=%{x}<br>Power density [MWe/km2]=%{y}<br>Field=%{customdata[0]}<br>Enthalpy classification=%{customdata[2]}<extra></extra>",
         "legendgroup": "Arc",
         "marker": {
          "color": "#636efa",
          "symbol": "circle"
         },
         "mode": "markers",
         "name": "Arc",
         "orientation": "v",
         "showlegend": true,
         "type": "scatter",
         "x": [
          250,
          269,
          250,
          245,
          290,
          300,
          225,
          300,
          270,
          285,
          245,
          290,
          280,
          245,
          250,
          220,
          275,
          340,
          270,
          300,
          240,
          250,
          236,
          220,
          245,
          280,
          260,
          230,
          225,
          235,
          225,
          210,
          300,
          190,
          328,
          180,
          260,
          275,
          280,
          300,
          210,
          250,
          245,
          270,
          285,
          310,
          235,
          250,
          305,
          300,
          290
         ],
         "xaxis": "x",
         "y": [
          14.41251252,
          10.20408163,
          9.273780826,
          19.60794604,
          9.035761198,
          10.06539702,
          9.577522076,
          2.5,
          41.66666667,
          11.42857143,
          21.13385725,
          5.763955618,
          18.41827985,
          9.512959773,
          7.42920358,
          15.83858962,
          16.84210526,
          7.607276871,
          8.571428571,
          10.29526556,
          2.325581395,
          6.443433216,
          17.33333333,
          9.553153561,
          8.041958615,
          8.741258741,
          12.78094619,
          15.27241489,
          0.875675964,
          3.145553788,
          3.63236597,
          10.6025744,
          12.5,
          7.317042075,
          7.446808511,
          15.2,
          18.28150556,
          14.02926456,
          2.545288905,
          41.82806439,
          1.25,
          11.88239853,
          15.23502202,
          11.14196427,
          26.31578947,
          5.806527255,
          8.941177317,
          14.48725471,
          6.102604394,
          7.474570865,
          13.52941176
         ],
         "yaxis": "y"
        },
        {
         "customdata": [
          [
           "Alasehir",
           "Not classified",
           "Hot water - intermediate temperature"
          ],
          [
           "Amatitlán",
           "Not classified",
           "Two-phase - liquid dominated"
          ],
          [
           "Bulalo",
           "Not classified",
           "Two-phase - liquid dominated"
          ],
          [
           "Cachaços-Lombadas ",
           "Not classified",
           "Two-phase - liquid dominated"
          ],
          [
           "Kirchstockach",
           "Not classified",
           "Hot water - intermediate temperature"
          ],
          [
           "Kizildere",
           "Not classified",
           "Two-phase - liquid dominated"
          ],
          [
           "Ngawha",
           "Not classified",
           "Two-phase - liquid dominated"
          ],
          [
           "Pico Alto",
           "Not classified",
           "Two-phase - liquid dominated"
          ],
          [
           "Pico Vermelho",
           "Not classified",
           "Two-phase - liquid dominated"
          ],
          [
           "Salavatli",
           "Not classified",
           "Hot water - intermediate temperature"
          ],
          [
           "Salton Sea",
           "Not classified",
           "Two-phase - liquid dominated"
          ],
          [
           "Travale",
           "Not classified",
           "Two-phase - liquid dominated"
          ],
          [
           "Ulubelu",
           "Not classified",
           "Two-phase - liquid dominated"
          ],
          [
           "Umurlu",
           "Not classified",
           "Hot water - intermediate temperature"
          ],
          [
           "Yangbajain",
           "Not classified",
           "Hot water - intermediate temperature"
          ]
         ],
         "hovertemplate": "System type=%{customdata[1]}<br>Average temperature [degC]=%{x}<br>Power density [MWe/km2]=%{y}<br>Field=%{customdata[0]}<br>Enthalpy classification=%{customdata[2]}<extra></extra>",
         "legendgroup": "Not classified",
         "marker": {
          "color": "#EF553B",
          "symbol": "circle"
         },
         "mode": "markers",
         "name": "Not classified",
         "orientation": "v",
         "showlegend": true,
         "type": "scatter",
         "x": [
          185,
          285,
          270,
          228,
          138,
          230,
          230,
          280,
          235,
          171,
          300,
          300,
          270,
          175,
          175
         ],
         "xaxis": "x",
         "y": [
          7.782423013,
          7.692307692,
          19.0843088,
          8.666666667,
          2.894736842,
          11.37371612,
          11.1118606,
          2.858325792,
          4.423076923,
          6.779661017,
          28.125,
          8.177083333,
          20.0840477,
          4.321377423,
          3.007048054
         ],
         "yaxis": "y"
        },
        {
         "customdata": [
          [
           "Amedee",
           "Deep circulation",
           "Hot water - low temperature"
          ],
          [
           "Beowawe",
           "Deep circulation",
           "Hot water - intermediate temperature"
          ],
          [
           "Blue Mountain",
           "Deep circulation",
           "Hot water - intermediate temperature"
          ],
          [
           "Bradys",
           "Deep circulation",
           "Hot water - intermediate temperature"
          ],
          [
           "Chena Hot Springs",
           "Deep circulation",
           "Hot water - low temperature"
          ],
          [
           "Desert Peak",
           "Deep circulation",
           "Hot water - intermediate temperature"
          ],
          [
           "Dixie Valley",
           "Deep circulation",
           "Two-phase - liquid dominated"
          ],
          [
           "Don A. Campbell",
           "Deep circulation",
           "Hot water - intermediate temperature"
          ],
          [
           "East Mesa",
           "Deep circulation",
           "Hot water - intermediate temperature"
          ],
          [
           "Fang",
           "Deep circulation",
           "Hot water - intermediate temperature"
          ],
          [
           "Germencik",
           "Deep circulation",
           "Two-phase - liquid dominated"
          ],
          [
           "Heber",
           "Deep circulation",
           "Hot water - intermediate temperature"
          ],
          [
           "Neal Hot Springs",
           "Deep circulation",
           "Hot water - intermediate temperature"
          ],
          [
           "Paisley",
           "Deep circulation",
           "Hot water - low temperature"
          ],
          [
           "Pamukoren",
           "Deep circulation",
           "Hot water - intermediate temperature"
          ],
          [
           "Raft River",
           "Deep circulation",
           "Hot water - intermediate temperature"
          ],
          [
           "Roosevelt",
           "Deep circulation",
           "Two-phase - liquid dominated"
          ],
          [
           "San Emidio",
           "Deep circulation",
           "Hot water - intermediate temperature"
          ],
          [
           "Tuscarora",
           "Deep circulation",
           "Hot water - intermediate temperature"
          ],
          [
           "Wineagle",
           "Deep circulation",
           "Hot water - low temperature"
          ]
         ],
         "hovertemplate": "System type=%{customdata[1]}<br>Average temperature [degC]=%{x}<br>Power density [MWe/km2]=%{y}<br>Field=%{customdata[0]}<br>Enthalpy classification=%{customdata[2]}<extra></extra>",
         "legendgroup": "Deep circulation",
         "marker": {
          "color": "#00cc96",
          "symbol": "circle"
         },
         "mode": "markers",
         "name": "Deep circulation",
         "orientation": "v",
         "showlegend": true,
         "type": "scatter",
         "x": [
          107,
          215,
          185,
          130,
          75,
          170,
          230,
          129,
          145,
          130,
          234,
          170,
          140,
          115,
          188,
          135,
          245,
          135,
          172,
          110
         ],
         "xaxis": "x",
         "y": [
          1.230769231,
          7,
          7.277777778,
          2.75,
          0.569620253,
          4.4,
          17.51612903,
          29.84615385,
          2.827225131,
          0.251930827,
          18.29151776,
          11.44578313,
          8.8,
          1.714285714,
          9.230769231,
          3.896586694,
          13.2,
          5.846153846,
          16.55555556,
          0.538461538
         ],
         "yaxis": "y"
        },
        {
         "customdata": [
          [
           "Berlin",
           "Rift - silicic",
           "Two-phase - liquid dominated"
          ],
          [
           "Cerro Prieto",
           "Rift - silicic",
           "Two-phase - liquid dominated"
          ],
          [
           "Kawerau",
           "Rift - silicic",
           "Two-phase - liquid dominated"
          ],
          [
           "Mokai",
           "Rift - silicic",
           "Two-phase - liquid dominated"
          ],
          [
           "Ngatamariki",
           "Rift - silicic",
           "Two-phase - liquid dominated"
          ],
          [
           "Ohaaki",
           "Rift - silicic",
           "Two-phase - liquid dominated"
          ],
          [
           "Olkaria",
           "Rift - silicic",
           "Two-phase - liquid dominated"
          ],
          [
           "Rotokawa",
           "Rift - silicic",
           "Two-phase - liquid dominated"
          ],
          [
           "Wairakei-Tauhara",
           "Rift - silicic",
           "Two-phase - liquid dominated"
          ]
         ],
         "hovertemplate": "System type=%{customdata[1]}<br>Average temperature [degC]=%{x}<br>Power density [MWe/km2]=%{y}<br>Field=%{customdata[0]}<br>Enthalpy classification=%{customdata[2]}<extra></extra>",
         "legendgroup": "Rift - silicic",
         "marker": {
          "color": "#ab63fa",
          "symbol": "circle"
         },
         "mode": "markers",
         "name": "Rift - silicic",
         "orientation": "v",
         "showlegend": true,
         "type": "scatter",
         "x": [
          255,
          300,
          275,
          295,
          280,
          275,
          240,
          320,
          275
         ],
         "xaxis": "x",
         "y": [
          19.04748793,
          26.77777778,
          19.28505741,
          30.43564121,
          24.68434389,
          6.818181818,
          21.66666667,
          30.75293998,
          26.98691598
         ],
         "yaxis": "y"
        },
        {
         "customdata": [
          [
           "Bjarnarflag",
           "Rift - basaltic",
           "Two-phase - liquid dominated"
          ],
          [
           "Hellisheidi",
           "Rift - basaltic",
           "Two-phase - liquid dominated"
          ],
          [
           "Husavik",
           "Rift - basaltic",
           "Hot water - intermediate temperature"
          ],
          [
           "Krafla",
           "Rift - basaltic",
           "Two-phase - liquid dominated"
          ],
          [
           "Nesjavellir",
           "Rift - basaltic",
           "Two-phase - liquid dominated"
          ],
          [
           "Puna",
           "Rift - basaltic",
           "Two-phase - liquid dominated"
          ],
          [
           "Reykjanes",
           "Rift - basaltic",
           "Two-phase - liquid dominated"
          ],
          [
           "Svartsengi",
           "Rift - basaltic",
           "Two-phase - liquid dominated"
          ]
         ],
         "hovertemplate": "System type=%{customdata[1]}<br>Average temperature [degC]=%{x}<br>Power density [MWe/km2]=%{y}<br>Field=%{customdata[0]}<br>Enthalpy classification=%{customdata[2]}<extra></extra>",
         "legendgroup": "Rift - basaltic",
         "marker": {
          "color": "#FFA15A",
          "symbol": "circle"
         },
         "mode": "markers",
         "name": "Rift - basaltic",
         "orientation": "v",
         "showlegend": true,
         "type": "scatter",
         "x": [
          300,
          290,
          125,
          270,
          290,
          340,
          300,
          240
         ],
         "xaxis": "x",
         "y": [
          1.217675569,
          19.25428133,
          1.483006201,
          10.88409581,
          13.85597154,
          25.33333333,
          24.57478132,
          28.39092616
         ],
         "yaxis": "y"
        },
        {
         "customdata": [
          [
           "Coso",
           "Silicic intrusion",
           "Two-phase - liquid dominated"
          ],
          [
           "Geysers",
           "Silicic intrusion",
           "Vapor dominated"
          ],
          [
           "Larderello",
           "Silicic intrusion",
           "Vapor dominated"
          ]
         ],
         "hovertemplate": "System type=%{customdata[1]}<br>Average temperature [degC]=%{x}<br>Power density [MWe/km2]=%{y}<br>Field=%{customdata[0]}<br>Enthalpy classification=%{customdata[2]}<extra></extra>",
         "legendgroup": "Silicic intrusion",
         "marker": {
          "color": "#19d3f3",
          "symbol": "circle"
         },
         "mode": "markers",
         "name": "Silicic intrusion",
         "orientation": "v",
         "showlegend": true,
         "type": "scatter",
         "x": [
          275,
          240,
          235
         ],
         "xaxis": "x",
         "y": [
          8.982035928,
          11.64383562,
          4.130434783
         ],
         "yaxis": "y"
        },
        {
         "customdata": [
          [
           "Mammoth",
           "Deep circulation - magmatic",
           "Hot water - intermediate temperature"
          ],
          [
           "Steamboat",
           "Deep circulation - magmatic",
           "Hot water - intermediate temperature"
          ]
         ],
         "hovertemplate": "System type=%{customdata[1]}<br>Average temperature [degC]=%{x}<br>Power density [MWe/km2]=%{y}<br>Field=%{customdata[0]}<br>Enthalpy classification=%{customdata[2]}<extra></extra>",
         "legendgroup": "Deep circulation - magmatic",
         "marker": {
          "color": "#FF6692",
          "symbol": "circle"
         },
         "mode": "markers",
         "name": "Deep circulation - magmatic",
         "orientation": "v",
         "showlegend": true,
         "type": "scatter",
         "x": [
          170,
          145
         ],
         "xaxis": "x",
         "y": [
          11.6,
          3.472743139
         ],
         "yaxis": "y"
        }
       ],
       "layout": {
        "legend": {
         "title": {
          "text": "System type"
         },
         "tracegroupgap": 0
        },
        "margin": {
         "t": 60
        },
        "template": {
         "data": {
          "bar": [
           {
            "error_x": {
             "color": "#2a3f5f"
            },
            "error_y": {
             "color": "#2a3f5f"
            },
            "marker": {
             "line": {
              "color": "#E5ECF6",
              "width": 0.5
             },
             "pattern": {
              "fillmode": "overlay",
              "size": 10,
              "solidity": 0.2
             }
            },
            "type": "bar"
           }
          ],
          "barpolar": [
           {
            "marker": {
             "line": {
              "color": "#E5ECF6",
              "width": 0.5
             },
             "pattern": {
              "fillmode": "overlay",
              "size": 10,
              "solidity": 0.2
             }
            },
            "type": "barpolar"
           }
          ],
          "carpet": [
           {
            "aaxis": {
             "endlinecolor": "#2a3f5f",
             "gridcolor": "white",
             "linecolor": "white",
             "minorgridcolor": "white",
             "startlinecolor": "#2a3f5f"
            },
            "baxis": {
             "endlinecolor": "#2a3f5f",
             "gridcolor": "white",
             "linecolor": "white",
             "minorgridcolor": "white",
             "startlinecolor": "#2a3f5f"
            },
            "type": "carpet"
           }
          ],
          "choropleth": [
           {
            "colorbar": {
             "outlinewidth": 0,
             "ticks": ""
            },
            "type": "choropleth"
           }
          ],
          "contour": [
           {
            "colorbar": {
             "outlinewidth": 0,
             "ticks": ""
            },
            "colorscale": [
             [
              0,
              "#0d0887"
             ],
             [
              0.1111111111111111,
              "#46039f"
             ],
             [
              0.2222222222222222,
              "#7201a8"
             ],
             [
              0.3333333333333333,
              "#9c179e"
             ],
             [
              0.4444444444444444,
              "#bd3786"
             ],
             [
              0.5555555555555556,
              "#d8576b"
             ],
             [
              0.6666666666666666,
              "#ed7953"
             ],
             [
              0.7777777777777778,
              "#fb9f3a"
             ],
             [
              0.8888888888888888,
              "#fdca26"
             ],
             [
              1,
              "#f0f921"
             ]
            ],
            "type": "contour"
           }
          ],
          "contourcarpet": [
           {
            "colorbar": {
             "outlinewidth": 0,
             "ticks": ""
            },
            "type": "contourcarpet"
           }
          ],
          "heatmap": [
           {
            "colorbar": {
             "outlinewidth": 0,
             "ticks": ""
            },
            "colorscale": [
             [
              0,
              "#0d0887"
             ],
             [
              0.1111111111111111,
              "#46039f"
             ],
             [
              0.2222222222222222,
              "#7201a8"
             ],
             [
              0.3333333333333333,
              "#9c179e"
             ],
             [
              0.4444444444444444,
              "#bd3786"
             ],
             [
              0.5555555555555556,
              "#d8576b"
             ],
             [
              0.6666666666666666,
              "#ed7953"
             ],
             [
              0.7777777777777778,
              "#fb9f3a"
             ],
             [
              0.8888888888888888,
              "#fdca26"
             ],
             [
              1,
              "#f0f921"
             ]
            ],
            "type": "heatmap"
           }
          ],
          "heatmapgl": [
           {
            "colorbar": {
             "outlinewidth": 0,
             "ticks": ""
            },
            "colorscale": [
             [
              0,
              "#0d0887"
             ],
             [
              0.1111111111111111,
              "#46039f"
             ],
             [
              0.2222222222222222,
              "#7201a8"
             ],
             [
              0.3333333333333333,
              "#9c179e"
             ],
             [
              0.4444444444444444,
              "#bd3786"
             ],
             [
              0.5555555555555556,
              "#d8576b"
             ],
             [
              0.6666666666666666,
              "#ed7953"
             ],
             [
              0.7777777777777778,
              "#fb9f3a"
             ],
             [
              0.8888888888888888,
              "#fdca26"
             ],
             [
              1,
              "#f0f921"
             ]
            ],
            "type": "heatmapgl"
           }
          ],
          "histogram": [
           {
            "marker": {
             "pattern": {
              "fillmode": "overlay",
              "size": 10,
              "solidity": 0.2
             }
            },
            "type": "histogram"
           }
          ],
          "histogram2d": [
           {
            "colorbar": {
             "outlinewidth": 0,
             "ticks": ""
            },
            "colorscale": [
             [
              0,
              "#0d0887"
             ],
             [
              0.1111111111111111,
              "#46039f"
             ],
             [
              0.2222222222222222,
              "#7201a8"
             ],
             [
              0.3333333333333333,
              "#9c179e"
             ],
             [
              0.4444444444444444,
              "#bd3786"
             ],
             [
              0.5555555555555556,
              "#d8576b"
             ],
             [
              0.6666666666666666,
              "#ed7953"
             ],
             [
              0.7777777777777778,
              "#fb9f3a"
             ],
             [
              0.8888888888888888,
              "#fdca26"
             ],
             [
              1,
              "#f0f921"
             ]
            ],
            "type": "histogram2d"
           }
          ],
          "histogram2dcontour": [
           {
            "colorbar": {
             "outlinewidth": 0,
             "ticks": ""
            },
            "colorscale": [
             [
              0,
              "#0d0887"
             ],
             [
              0.1111111111111111,
              "#46039f"
             ],
             [
              0.2222222222222222,
              "#7201a8"
             ],
             [
              0.3333333333333333,
              "#9c179e"
             ],
             [
              0.4444444444444444,
              "#bd3786"
             ],
             [
              0.5555555555555556,
              "#d8576b"
             ],
             [
              0.6666666666666666,
              "#ed7953"
             ],
             [
              0.7777777777777778,
              "#fb9f3a"
             ],
             [
              0.8888888888888888,
              "#fdca26"
             ],
             [
              1,
              "#f0f921"
             ]
            ],
            "type": "histogram2dcontour"
           }
          ],
          "mesh3d": [
           {
            "colorbar": {
             "outlinewidth": 0,
             "ticks": ""
            },
            "type": "mesh3d"
           }
          ],
          "parcoords": [
           {
            "line": {
             "colorbar": {
              "outlinewidth": 0,
              "ticks": ""
             }
            },
            "type": "parcoords"
           }
          ],
          "pie": [
           {
            "automargin": true,
            "type": "pie"
           }
          ],
          "scatter": [
           {
            "marker": {
             "colorbar": {
              "outlinewidth": 0,
              "ticks": ""
             }
            },
            "type": "scatter"
           }
          ],
          "scatter3d": [
           {
            "line": {
             "colorbar": {
              "outlinewidth": 0,
              "ticks": ""
             }
            },
            "marker": {
             "colorbar": {
              "outlinewidth": 0,
              "ticks": ""
             }
            },
            "type": "scatter3d"
           }
          ],
          "scattercarpet": [
           {
            "marker": {
             "colorbar": {
              "outlinewidth": 0,
              "ticks": ""
             }
            },
            "type": "scattercarpet"
           }
          ],
          "scattergeo": [
           {
            "marker": {
             "colorbar": {
              "outlinewidth": 0,
              "ticks": ""
             }
            },
            "type": "scattergeo"
           }
          ],
          "scattergl": [
           {
            "marker": {
             "colorbar": {
              "outlinewidth": 0,
              "ticks": ""
             }
            },
            "type": "scattergl"
           }
          ],
          "scattermapbox": [
           {
            "marker": {
             "colorbar": {
              "outlinewidth": 0,
              "ticks": ""
             }
            },
            "type": "scattermapbox"
           }
          ],
          "scatterpolar": [
           {
            "marker": {
             "colorbar": {
              "outlinewidth": 0,
              "ticks": ""
             }
            },
            "type": "scatterpolar"
           }
          ],
          "scatterpolargl": [
           {
            "marker": {
             "colorbar": {
              "outlinewidth": 0,
              "ticks": ""
             }
            },
            "type": "scatterpolargl"
           }
          ],
          "scatterternary": [
           {
            "marker": {
             "colorbar": {
              "outlinewidth": 0,
              "ticks": ""
             }
            },
            "type": "scatterternary"
           }
          ],
          "surface": [
           {
            "colorbar": {
             "outlinewidth": 0,
             "ticks": ""
            },
            "colorscale": [
             [
              0,
              "#0d0887"
             ],
             [
              0.1111111111111111,
              "#46039f"
             ],
             [
              0.2222222222222222,
              "#7201a8"
             ],
             [
              0.3333333333333333,
              "#9c179e"
             ],
             [
              0.4444444444444444,
              "#bd3786"
             ],
             [
              0.5555555555555556,
              "#d8576b"
             ],
             [
              0.6666666666666666,
              "#ed7953"
             ],
             [
              0.7777777777777778,
              "#fb9f3a"
             ],
             [
              0.8888888888888888,
              "#fdca26"
             ],
             [
              1,
              "#f0f921"
             ]
            ],
            "type": "surface"
           }
          ],
          "table": [
           {
            "cells": {
             "fill": {
              "color": "#EBF0F8"
             },
             "line": {
              "color": "white"
             }
            },
            "header": {
             "fill": {
              "color": "#C8D4E3"
             },
             "line": {
              "color": "white"
             }
            },
            "type": "table"
           }
          ]
         },
         "layout": {
          "annotationdefaults": {
           "arrowcolor": "#2a3f5f",
           "arrowhead": 0,
           "arrowwidth": 1
          },
          "autotypenumbers": "strict",
          "coloraxis": {
           "colorbar": {
            "outlinewidth": 0,
            "ticks": ""
           }
          },
          "colorscale": {
           "diverging": [
            [
             0,
             "#8e0152"
            ],
            [
             0.1,
             "#c51b7d"
            ],
            [
             0.2,
             "#de77ae"
            ],
            [
             0.3,
             "#f1b6da"
            ],
            [
             0.4,
             "#fde0ef"
            ],
            [
             0.5,
             "#f7f7f7"
            ],
            [
             0.6,
             "#e6f5d0"
            ],
            [
             0.7,
             "#b8e186"
            ],
            [
             0.8,
             "#7fbc41"
            ],
            [
             0.9,
             "#4d9221"
            ],
            [
             1,
             "#276419"
            ]
           ],
           "sequential": [
            [
             0,
             "#0d0887"
            ],
            [
             0.1111111111111111,
             "#46039f"
            ],
            [
             0.2222222222222222,
             "#7201a8"
            ],
            [
             0.3333333333333333,
             "#9c179e"
            ],
            [
             0.4444444444444444,
             "#bd3786"
            ],
            [
             0.5555555555555556,
             "#d8576b"
            ],
            [
             0.6666666666666666,
             "#ed7953"
            ],
            [
             0.7777777777777778,
             "#fb9f3a"
            ],
            [
             0.8888888888888888,
             "#fdca26"
            ],
            [
             1,
             "#f0f921"
            ]
           ],
           "sequentialminus": [
            [
             0,
             "#0d0887"
            ],
            [
             0.1111111111111111,
             "#46039f"
            ],
            [
             0.2222222222222222,
             "#7201a8"
            ],
            [
             0.3333333333333333,
             "#9c179e"
            ],
            [
             0.4444444444444444,
             "#bd3786"
            ],
            [
             0.5555555555555556,
             "#d8576b"
            ],
            [
             0.6666666666666666,
             "#ed7953"
            ],
            [
             0.7777777777777778,
             "#fb9f3a"
            ],
            [
             0.8888888888888888,
             "#fdca26"
            ],
            [
             1,
             "#f0f921"
            ]
           ]
          },
          "colorway": [
           "#636efa",
           "#EF553B",
           "#00cc96",
           "#ab63fa",
           "#FFA15A",
           "#19d3f3",
           "#FF6692",
           "#B6E880",
           "#FF97FF",
           "#FECB52"
          ],
          "font": {
           "color": "#2a3f5f"
          },
          "geo": {
           "bgcolor": "white",
           "lakecolor": "white",
           "landcolor": "#E5ECF6",
           "showlakes": true,
           "showland": true,
           "subunitcolor": "white"
          },
          "hoverlabel": {
           "align": "left"
          },
          "hovermode": "closest",
          "mapbox": {
           "style": "light"
          },
          "paper_bgcolor": "white",
          "plot_bgcolor": "#E5ECF6",
          "polar": {
           "angularaxis": {
            "gridcolor": "white",
            "linecolor": "white",
            "ticks": ""
           },
           "bgcolor": "#E5ECF6",
           "radialaxis": {
            "gridcolor": "white",
            "linecolor": "white",
            "ticks": ""
           }
          },
          "scene": {
           "xaxis": {
            "backgroundcolor": "#E5ECF6",
            "gridcolor": "white",
            "gridwidth": 2,
            "linecolor": "white",
            "showbackground": true,
            "ticks": "",
            "zerolinecolor": "white"
           },
           "yaxis": {
            "backgroundcolor": "#E5ECF6",
            "gridcolor": "white",
            "gridwidth": 2,
            "linecolor": "white",
            "showbackground": true,
            "ticks": "",
            "zerolinecolor": "white"
           },
           "zaxis": {
            "backgroundcolor": "#E5ECF6",
            "gridcolor": "white",
            "gridwidth": 2,
            "linecolor": "white",
            "showbackground": true,
            "ticks": "",
            "zerolinecolor": "white"
           }
          },
          "shapedefaults": {
           "line": {
            "color": "#2a3f5f"
           }
          },
          "ternary": {
           "aaxis": {
            "gridcolor": "white",
            "linecolor": "white",
            "ticks": ""
           },
           "baxis": {
            "gridcolor": "white",
            "linecolor": "white",
            "ticks": ""
           },
           "bgcolor": "#E5ECF6",
           "caxis": {
            "gridcolor": "white",
            "linecolor": "white",
            "ticks": ""
           }
          },
          "title": {
           "x": 0.05
          },
          "xaxis": {
           "automargin": true,
           "gridcolor": "white",
           "linecolor": "white",
           "ticks": "",
           "title": {
            "standoff": 15
           },
           "zerolinecolor": "white",
           "zerolinewidth": 2
          },
          "yaxis": {
           "automargin": true,
           "gridcolor": "white",
           "linecolor": "white",
           "ticks": "",
           "title": {
            "standoff": 15
           },
           "zerolinecolor": "white",
           "zerolinewidth": 2
          }
         }
        },
        "xaxis": {
         "anchor": "y",
         "domain": [
          0,
          1
         ],
         "title": {
          "text": "Average temperature [degC]"
         }
        },
        "yaxis": {
         "anchor": "x",
         "domain": [
          0,
          1
         ],
         "title": {
          "text": "Power density [MWe/km2]"
         }
        }
       }
      }
     },
     "metadata": {},
     "output_type": "display_data"
    }
   ],
   "source": [
    "fig = px.scatter(\n",
    "    database, \n",
    "    x='Average temperature [degC]', \n",
    "    y='Power density [MWe/km2]', \n",
    "    color='System type',\n",
    "    hover_data=['Field', 'System type', 'Average temperature [degC]', 'Enthalpy classification', 'Power density [MWe/km2]'],\n",
    "    #hovertemplate = \"%{Field}: <br>Popularity: %{'System type'} </br> %{text}\"\n",
    ")\n",
    "\n",
    "fig.show()"
   ]
  },
  {
   "cell_type": "code",
   "execution_count": null,
   "metadata": {},
   "outputs": [],
   "source": []
  }
 ],
 "metadata": {
  "interpreter": {
   "hash": "c268d92783217d0a189fd0f6bc72a35770f06191246a63de0fd4bf64fa0bf04a"
  },
  "kernelspec": {
   "display_name": "Python 3.8.8 ('base')",
   "language": "python",
   "name": "python3"
  },
  "language_info": {
   "codemirror_mode": {
    "name": "ipython",
    "version": 3
   },
   "file_extension": ".py",
   "mimetype": "text/x-python",
   "name": "python",
   "nbconvert_exporter": "python",
   "pygments_lexer": "ipython3",
   "version": "3.8.8"
  },
  "orig_nbformat": 4
 },
 "nbformat": 4,
 "nbformat_minor": 2
}
