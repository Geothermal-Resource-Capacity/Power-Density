{
 "cells": [
  {
   "cell_type": "markdown",
   "metadata": {},
   "source": [
    "# Resource Estimator"
   ]
  },
  {
   "cell_type": "code",
   "execution_count": 1,
   "metadata": {},
   "outputs": [
    {
     "name": "stdout",
     "output_type": "stream",
     "text": [
      "3.8.5\n"
     ]
    }
   ],
   "source": [
    "from platform import python_version\n",
    "print(python_version())"
   ]
  },
  {
   "cell_type": "code",
   "execution_count": 47,
   "metadata": {},
   "outputs": [],
   "source": [
    "# Import libraries\n",
    "import numpy as np\n",
    "import scipy\n",
    "from scipy.stats import norm, lognorm"
   ]
  },
  {
   "cell_type": "markdown",
   "metadata": {},
   "source": [
    "### Exploration: *Is it there?*"
   ]
  },
  {
   "cell_type": "code",
   "execution_count": 14,
   "metadata": {},
   "outputs": [],
   "source": [
    "# USER INPUT REQUIRED\n",
    "Ptemp = 0.8\n",
    "Pperm = 0.4\n",
    "Pchem = 0.5"
   ]
  },
  {
   "cell_type": "code",
   "execution_count": 9,
   "metadata": {},
   "outputs": [
    {
     "name": "stdout",
     "output_type": "stream",
     "text": [
      "Probability of exploration success = 16%\n"
     ]
    }
   ],
   "source": [
    "POSexpl = Ptemp * Pperm * Pchem\n",
    "print(\"Probability of exploration success = {:.0f}%\".format(POSexpl*100))\n",
    "# Could potentially code in user option to adjust number of decimal places for POS"
   ]
  },
  {
   "cell_type": "markdown",
   "metadata": {},
   "source": [
    "### Appraisal and Development: *Assuming it's there, how big is it?*"
   ]
  },
  {
   "cell_type": "code",
   "execution_count": 33,
   "metadata": {},
   "outputs": [],
   "source": [
    "# USER INPUT REQUIRED\n",
    "#Cumulative confidence of optimistic case\n",
    "Opt_case = 0.1"
   ]
  },
  {
   "cell_type": "code",
   "execution_count": null,
   "metadata": {},
   "outputs": [],
   "source": [
    "# USER INPUT REQUIRED\n",
    "Tmax = 280 #startup averages temperature for P90 reserves (degrees C)\n",
    "Tmin = 250 #minimum temperature for the P10 reservoir (degrees C)"
   ]
  },
  {
   "cell_type": "code",
   "execution_count": 19,
   "metadata": {},
   "outputs": [],
   "source": [
    "# USER INPUT REQUIRED\n",
    "# Area > 250 deg C in km2\n",
    "Area_P90 = 1\n",
    "Area_P10 = 10"
   ]
  },
  {
   "cell_type": "code",
   "execution_count": 20,
   "metadata": {},
   "outputs": [],
   "source": [
    "# USER INPUT REQUIRED\n",
    "# Power Density 250 to 280 deg C (MWe/km2)\n",
    "PowerDens_P90 = 10\n",
    "PowerDens_P10 = 24"
   ]
  },
  {
   "cell_type": "code",
   "execution_count": 37,
   "metadata": {},
   "outputs": [
    {
     "name": "stdout",
     "output_type": "stream",
     "text": [
      "1.151292546497023\n",
      "0.8983583473738543\n"
     ]
    }
   ],
   "source": [
    "# Calculate nu and sigma for area > 250 degC (the mean and variance in log units required for specifying lognormal distributions)\n",
    "area_nu = ((np.log(Area_P90)+np.log(Area_P10))/2)\n",
    "print(area_nu)\n",
    "\n",
    "area_sigma = (np.log(Area_P10)-np.log(Area_P90))/((norm.ppf(1-Opt_case)-(norm.ppf(Opt_case))))\n",
    "print(area_sigma)"
   ]
  },
  {
   "cell_type": "code",
   "execution_count": 38,
   "metadata": {},
   "outputs": [
    {
     "name": "stdout",
     "output_type": "stream",
     "text": [
      "2.740319461670996\n",
      "0.3415659427569994\n"
     ]
    }
   ],
   "source": [
    "# Calculate nu and sigma for power density (the mean and variance in log units required for specifying lognormal distributions)\n",
    "powerdens_nu = ((np.log(PowerDens_P90)+np.log(PowerDens_P10))/2)\n",
    "print(powerdens_nu)\n",
    "\n",
    "powerdens_sigma = (np.log(PowerDens_P10)-np.log(PowerDens_P90))/((norm.ppf(1-Opt_case)-(norm.ppf(Opt_case))))\n",
    "print(powerdens_sigma)"
   ]
  },
  {
   "cell_type": "code",
   "execution_count": 43,
   "metadata": {},
   "outputs": [
    {
     "name": "stdout",
     "output_type": "stream",
     "text": [
      "3.891612008168019\n",
      "0.9611009382722299\n"
     ]
    }
   ],
   "source": [
    "# Calculate nu and sigma for MWe Capacity\n",
    "capacity_nu = area_nu + powerdens_nu\n",
    "print(capacity_nu)\n",
    "\n",
    "capacity_sigma = ((area_sigma**2)+(powerdens_sigma**2))**0.5\n",
    "print(capacity_sigma)"
   ]
  },
  {
   "cell_type": "code",
   "execution_count": 53,
   "metadata": {},
   "outputs": [
    {
     "name": "stdout",
     "output_type": "stream",
     "text": [
      "0 0.1537761501235568\n",
      "1 0.15379487187024\n",
      "2 0.15383023394931697\n",
      "3 0.15388216825213893\n",
      "4 0.15395205408224052\n",
      "5 0.15404169848273494\n",
      "6 0.15415319096092014\n",
      "7 0.15428886659616367\n",
      "8 0.15445130069701093\n",
      "9 0.15464331636794215\n",
      "10 0.15486799886620894\n",
      "11 0.15512871440021903\n",
      "12 0.15542913241498285\n",
      "13 0.15577325100883122\n",
      "14 0.15616542541795897\n",
      "15 0.1566103996675202\n",
      "16 0.15711334159125376\n",
      "17 0.1576798814976321\n",
      "18 0.15831615482460987\n",
      "19 0.15902884918525662\n",
      "20 0.15982525626754635\n",
      "21 0.16071332911637015\n",
      "22 0.16170174539668758\n",
      "23 0.1627999773155378\n",
      "24 0.16401836896921956\n",
      "25 0.16536822198219486\n",
      "26 0.1668618904182305\n",
      "27 0.16851288607426643\n",
      "28 0.17033599541614422\n",
      "29 0.17234740958570122\n",
      "30 0.17456486910442698\n",
      "31 0.17700782512408483\n",
      "32 0.17969761933438097\n",
      "33 0.18265768493776108\n",
      "34 0.18591377144866805\n",
      "35 0.18949419647733312\n",
      "36 0.19343012812620802\n",
      "37 0.19775590217218253\n",
      "38 0.20250937884378803\n",
      "39 0.2077323447464795\n",
      "40 0.2134709663610568\n",
      "41 0.21977630256475078\n",
      "42 0.22670488483100834\n",
      "43 0.234319375188421\n",
      "44 0.24268931370520325\n",
      "45 0.251891969266424\n",
      "46 0.2620133097921068\n",
      "47 0.27314911088555477\n",
      "48 0.28540622530174875\n",
      "49 0.2989040397078281\n",
      "50 0.3137761501235568\n",
      "51 0.3301722933688899\n",
      "52 0.34826057904562835\n",
      "53 0.36823007533900387\n",
      "54 0.3902938126194483\n",
      "55 0.41469228193226826\n",
      "56 0.44169752159171155\n",
      "57 0.471617905024524\n",
      "58 0.5048037677381032\n",
      "59 0.541654042114936\n",
      "60 0.5826241073422977\n",
      "61 0.6282351103765492\n",
      "62 0.6790850753122621\n",
      "63 0.7358621967137166\n",
      "64 0.79936081248173\n",
      "65 0.8705006805315147\n",
      "66 0.9503503502183553\n",
      "67 1.0401556366946672\n",
      "68 1.1413744915520632\n",
      "69 1.255719940204045\n",
      "70 1.3852132590458126\n",
      "71 1.5322502408109941\n",
      "72 1.6996843121677518\n",
      "73 1.8909315205953536\n",
      "74 2.110104139486148\n",
      "75 2.3621820599716448\n",
      "76 2.653234557111294\n",
      "77 2.9907099095321303\n",
      "78 3.3838174426418313\n",
      "79 3.844036993403043\n",
      "80 4.38580636923891\n",
      "81 5.02746103084765\n",
      "82 5.792536831155924\n",
      "83 6.711604429499985\n",
      "84 7.824897285305804\n",
      "85 9.186149483136887\n",
      "86 10.868322129809622\n",
      "87 12.972357418982366\n",
      "88 15.640935409352194\n",
      "89 19.080787931903224\n",
      "90 23.600247259131535\n",
      "91 29.675220470347686\n",
      "92 38.071243758908935\n",
      "93 50.083905895786884\n",
      "94 68.05093068389131\n",
      "95 96.5580622817817\n",
      "96 145.68773792996672\n",
      "97 241.6219131788327\n",
      "98 473.4930719596171\n",
      "99 1367.5475580022905\n"
     ]
    }
   ],
   "source": [
    "# Calculate cumulative confidence curve for expected power capacity (epc)\n",
    "\n",
    "n = [0.1]\n",
    "for i in range(1,100):\n",
    "    n.append(i)\n",
    "\n",
    "for n in range(0,100):\n",
    "    epc = lognorm.ppf(n/100, capacity_nu, capacity_sigma)*POSexpl\n",
    "    print(n, epc)"
   ]
  },
  {
   "cell_type": "code",
   "execution_count": null,
   "metadata": {},
   "outputs": [],
   "source": []
  }
 ],
 "metadata": {
  "kernelspec": {
   "display_name": "Python 3",
   "language": "python",
   "name": "python3"
  },
  "language_info": {
   "codemirror_mode": {
    "name": "ipython",
    "version": 3
   },
   "file_extension": ".py",
   "mimetype": "text/x-python",
   "name": "python",
   "nbconvert_exporter": "python",
   "pygments_lexer": "ipython3",
   "version": "3.8.5"
  }
 },
 "nbformat": 4,
 "nbformat_minor": 4
}
