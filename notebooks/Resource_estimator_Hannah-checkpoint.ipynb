{
 "cells": [
  {
   "cell_type": "markdown",
   "metadata": {},
   "source": [
    "# Geothermal Power Capacity Reserve Estimation"
   ]
  },
  {
   "cell_type": "code",
   "execution_count": 203,
   "metadata": {},
   "outputs": [
    {
     "name": "stdout",
     "output_type": "stream",
     "text": [
      "3.8.5\n"
     ]
    }
   ],
   "source": [
    "from platform import python_version\n",
    "print(python_version())"
   ]
  },
  {
   "cell_type": "code",
   "execution_count": 204,
   "metadata": {},
   "outputs": [],
   "source": [
    "# Import libraries\n",
    "import numpy as np\n",
    "import scipy\n",
    "from scipy.stats import norm, lognorm\n",
    "import matplotlib.pyplot as plt"
   ]
  },
  {
   "cell_type": "markdown",
   "metadata": {},
   "source": [
    "### Appraisal and Development: *Assuming it's there, how big is it?*"
   ]
  },
  {
   "cell_type": "code",
   "execution_count": 207,
   "metadata": {},
   "outputs": [],
   "source": [
    "# USER INPUT REQUIRED\n",
    "Tmax = 280 #startup averages temperature for P90 reserves (degrees C)\n",
    "Tmin = 250 #minimum temperature for the P10 reservoir (degrees C)"
   ]
  },
  {
   "cell_type": "code",
   "execution_count": 208,
   "metadata": {},
   "outputs": [],
   "source": [
    "# USER INPUT REQUIRED\n",
    "# Area > 250 deg C in km2\n",
    "Area_P90 = 1\n",
    "Area_P10 = 10"
   ]
  },
  {
   "cell_type": "code",
   "execution_count": 209,
   "metadata": {},
   "outputs": [],
   "source": [
    "# USER INPUT REQUIRED\n",
    "# Power Density 250 to 280 deg C (MWe/km2)\n",
    "PowerDens_P90 = 10\n",
    "PowerDens_P10 = 24"
   ]
  },
  {
   "cell_type": "code",
   "execution_count": 210,
   "metadata": {},
   "outputs": [
    {
     "name": "stdout",
     "output_type": "stream",
     "text": [
      "1.151292546497023\n",
      "0.8983583473738543\n"
     ]
    }
   ],
   "source": [
    "# Calculate nu and sigma for area > 250 degC (the mean and variance in log units required for specifying lognormal distributions)\n",
    "area_nu = ((np.log(Area_P90)+np.log(Area_P10))/2)\n",
    "print(area_nu)\n",
    "\n",
    "area_sigma = (np.log(Area_P10)-np.log(Area_P90))/((norm.ppf(0.9)-(norm.ppf(0.1))))\n",
    "print(area_sigma)"
   ]
  },
  {
   "cell_type": "code",
   "execution_count": 211,
   "metadata": {},
   "outputs": [
    {
     "name": "stdout",
     "output_type": "stream",
     "text": [
      "2.740319461670996\n",
      "0.3415659427569994\n"
     ]
    }
   ],
   "source": [
    "# Calculate nu and sigma for power density (the mean and variance in log units required for specifying lognormal distributions)\n",
    "powerdens_nu = ((np.log(PowerDens_P90)+np.log(PowerDens_P10))/2)\n",
    "print(powerdens_nu)\n",
    "\n",
    "powerdens_sigma = (np.log(PowerDens_P10)-np.log(PowerDens_P90))/((norm.ppf(0.9)-(norm.ppf(0.1))))\n",
    "#powerdens_sigma = (np.log(PowerDens_P10)-np.log(PowerDens_P90))\n",
    "print(powerdens_sigma)"
   ]
  },
  {
   "cell_type": "code",
   "execution_count": 212,
   "metadata": {},
   "outputs": [
    {
     "name": "stdout",
     "output_type": "stream",
     "text": [
      "3.891612008168019\n",
      "0.9611009382722299\n"
     ]
    }
   ],
   "source": [
    "# Calculate nu and sigma for MWe Capacity\n",
    "capacity_nu = area_nu + powerdens_nu\n",
    "print(capacity_nu)\n",
    "\n",
    "capacity_sigma = ((area_sigma**2)+(powerdens_sigma**2))**0.5\n",
    "print(capacity_sigma)"
   ]
  },
  {
   "cell_type": "markdown",
   "metadata": {},
   "source": [
    "#### Expected development size"
   ]
  },
  {
   "cell_type": "code",
   "execution_count": 227,
   "metadata": {},
   "outputs": [],
   "source": [
    "# Calculate cumulative confidence curve for expected development size \n",
    "\n",
    "prob = [0.1]\n",
    "prob_desc = []\n",
    "expected_development_size_cdf=[]\n",
    "\n",
    "# Specify probability range\n",
    "for i in range(1,100):\n",
    "    prob.append(i)\n",
    "\n",
    "for j in prob:\n",
    "    \n",
    "    # Calculate 100-prob for plotting descending cumulative probability\n",
    "    desc = 100-j\n",
    "    prob_desc.append(desc)   \n",
    "    \n",
    "    # Calculate expected development size distribution\n",
    "    eds_cdf = lognorm.ppf(j/100, capacity_sigma, loc=0, scale=np.exp(capacity_nu))\n",
    "    expected_development_size_cdf.append(eds_cdf)\n"
   ]
  },
  {
   "cell_type": "code",
   "execution_count": 229,
   "metadata": {},
   "outputs": [
    {
     "data": {
      "text/plain": [
       "(10.0, 100.0)"
      ]
     },
     "execution_count": 229,
     "metadata": {},
     "output_type": "execute_result"
    },
    {
     "data": {
      "image/png": "[encoded data removed]",
      "text/plain": [
       "<Figure size 432x288 with 1 Axes>"
      ]
     },
     "metadata": {
      "needs_background": "light"
     },
     "output_type": "display_data"
    }
   ],
   "source": [
    "# Plot expected development size cumulative distribution\n",
    "\n",
    "plt.plot(expected_development_size, prob_desc)\n",
    "plt.xlabel(\"Expected Development Size (MW)\")\n",
    "plt.ylabel(\"Cumulative Confidence %\")\n",
    "plt.title(\"Cumulative Confidence in Developed Reservoir Size\")\n",
    "#axs[0].set_xlim([0, 350])\n",
    "plt.ylim([10, 100]) "
   ]
  },
  {
   "cell_type": "markdown",
   "metadata": {},
   "source": [
    "### Exploration: *Is it there?*"
   ]
  },
  {
   "cell_type": "code",
   "execution_count": 205,
   "metadata": {},
   "outputs": [],
   "source": [
    "# USER INPUT REQUIRED\n",
    "Ptemp = 0.8\n",
    "Pperm = 0.4\n",
    "Pchem = 0.5"
   ]
  },
  {
   "cell_type": "code",
   "execution_count": 206,
   "metadata": {},
   "outputs": [
    {
     "name": "stdout",
     "output_type": "stream",
     "text": [
      "Probability of exploration success = 16%\n"
     ]
    }
   ],
   "source": [
    "POSexpl = Ptemp * Pperm * Pchem\n",
    "print(\"Probability of exploration success = {:.0f}%\".format(POSexpl*100))\n",
    "# Could potentially code in user option to adjust number of decimal places for POS"
   ]
  },
  {
   "cell_type": "markdown",
   "metadata": {},
   "source": [
    "#### Expected Power Capacity\n",
    "\n",
    "Expected power capacity = expected development size * POSexpl"
   ]
  },
  {
   "cell_type": "code",
   "execution_count": 215,
   "metadata": {},
   "outputs": [],
   "source": [
    "# Calculate cumulative confidence curve for cumulative expected power capacity \n",
    "\n",
    "expected_power_capacity_cdf=[]\n",
    "\n",
    "for j in prob:\n",
    "\n",
    "    # Calculate power capacity distribution (expected development size * POSexpl)\n",
    "    epc_cdf = lognorm.ppf(j/100, capacity_sigma, loc=0, scale=np.exp(capacity_nu))*POSexpl\n",
    "    expected_power_capacity_cdf.append(epc_cdf)\n",
    "    "
   ]
  },
  {
   "cell_type": "code",
   "execution_count": 226,
   "metadata": {},
   "outputs": [
    {
     "data": {
      "text/plain": [
       "(10.0, 100.0)"
      ]
     },
     "execution_count": 226,
     "metadata": {},
     "output_type": "execute_result"
    },
    {
     "data": {
      "image/png": "[encoded data removed]",
      "text/plain": [
       "<Figure size 432x288 with 1 Axes>"
      ]
     },
     "metadata": {
      "needs_background": "light"
     },
     "output_type": "display_data"
    }
   ],
   "source": [
    "# Plot cumulative confidence curve for cumulative expected power capacity\n",
    "\n",
    "# Plot power capacity cumulative distribution\n",
    "plt.plot(expected_power_capacity, prob_desc)\n",
    "plt.xlabel(\"Expected Power Capacity (MWe potential reserves)\")\n",
    "plt.ylabel(\"Cumulative Confidence %\")\n",
    "plt.title(\"Cumulative Confidence in Power Capacity\")\n",
    "#axs[0].set_xlim([0, 350])\n",
    "plt.ylim([10, 100]) \n",
    "\n"
   ]
  }
 ],
 "metadata": {
  "kernelspec": {
   "display_name": "Python 3",
   "language": "python",
   "name": "python3"
  },
  "language_info": {
   "codemirror_mode": {
    "name": "ipython",
    "version": 3
   },
   "file_extension": ".py",
   "mimetype": "text/x-python",
   "name": "python",
   "nbconvert_exporter": "python",
   "pygments_lexer": "ipython3",
   "version": "3.8.5"
  }
 },
 "nbformat": 4,
 "nbformat_minor": 4
}
