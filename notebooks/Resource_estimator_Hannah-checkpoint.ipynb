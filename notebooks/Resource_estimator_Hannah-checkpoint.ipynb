{
 "cells": [
  {
   "cell_type": "markdown",
   "metadata": {},
   "source": [
    "# Resource Estimator"
   ]
  },
  {
   "cell_type": "code",
   "execution_count": 1,
   "metadata": {},
   "outputs": [
    {
     "name": "stdout",
     "output_type": "stream",
     "text": [
      "3.8.5\n"
     ]
    }
   ],
   "source": [
    "from platform import python_version\n",
    "print(python_version())"
   ]
  },
  {
   "cell_type": "code",
   "execution_count": 121,
   "metadata": {},
   "outputs": [],
   "source": [
    "# Import libraries\n",
    "import numpy as np\n",
    "import scipy\n",
    "from scipy.stats import norm, lognorm\n",
    "import matplotlib.pyplot as plt"
   ]
  },
  {
   "cell_type": "markdown",
   "metadata": {},
   "source": [
    "### Exploration: *Is it there?*"
   ]
  },
  {
   "cell_type": "code",
   "execution_count": 14,
   "metadata": {},
   "outputs": [],
   "source": [
    "# USER INPUT REQUIRED\n",
    "Ptemp = 0.8\n",
    "Pperm = 0.4\n",
    "Pchem = 0.5"
   ]
  },
  {
   "cell_type": "code",
   "execution_count": 9,
   "metadata": {},
   "outputs": [
    {
     "name": "stdout",
     "output_type": "stream",
     "text": [
      "Probability of exploration success = 16%\n"
     ]
    }
   ],
   "source": [
    "POSexpl = Ptemp * Pperm * Pchem\n",
    "print(\"Probability of exploration success = {:.0f}%\".format(POSexpl*100))\n",
    "# Could potentially code in user option to adjust number of decimal places for POS"
   ]
  },
  {
   "cell_type": "markdown",
   "metadata": {},
   "source": [
    "### Appraisal and Development: *Assuming it's there, how big is it?*"
   ]
  },
  {
   "cell_type": "code",
   "execution_count": 33,
   "metadata": {},
   "outputs": [],
   "source": [
    "# USER INPUT REQUIRED\n",
    "#Cumulative confidence of optimistic case\n",
    "Opt_case = 0.1"
   ]
  },
  {
   "cell_type": "code",
   "execution_count": null,
   "metadata": {},
   "outputs": [],
   "source": [
    "# USER INPUT REQUIRED\n",
    "Tmax = 280 #startup averages temperature for P90 reserves (degrees C)\n",
    "Tmin = 250 #minimum temperature for the P10 reservoir (degrees C)"
   ]
  },
  {
   "cell_type": "code",
   "execution_count": 19,
   "metadata": {},
   "outputs": [],
   "source": [
    "# USER INPUT REQUIRED\n",
    "# Area > 250 deg C in km2\n",
    "Area_P90 = 1\n",
    "Area_P10 = 10"
   ]
  },
  {
   "cell_type": "code",
   "execution_count": 20,
   "metadata": {},
   "outputs": [],
   "source": [
    "# USER INPUT REQUIRED\n",
    "# Power Density 250 to 280 deg C (MWe/km2)\n",
    "PowerDens_P90 = 10\n",
    "PowerDens_P10 = 24"
   ]
  },
  {
   "cell_type": "code",
   "execution_count": 37,
   "metadata": {},
   "outputs": [
    {
     "name": "stdout",
     "output_type": "stream",
     "text": [
      "1.151292546497023\n",
      "0.8983583473738543\n"
     ]
    }
   ],
   "source": [
    "# Calculate nu and sigma for area > 250 degC (the mean and variance in log units required for specifying lognormal distributions)\n",
    "area_nu = ((np.log(Area_P90)+np.log(Area_P10))/2)\n",
    "print(area_nu)\n",
    "\n",
    "area_sigma = (np.log(Area_P10)-np.log(Area_P90))/((norm.ppf(1-Opt_case)-(norm.ppf(Opt_case))))\n",
    "print(area_sigma)"
   ]
  },
  {
   "cell_type": "code",
   "execution_count": 38,
   "metadata": {},
   "outputs": [
    {
     "name": "stdout",
     "output_type": "stream",
     "text": [
      "2.740319461670996\n",
      "0.3415659427569994\n"
     ]
    }
   ],
   "source": [
    "# Calculate nu and sigma for power density (the mean and variance in log units required for specifying lognormal distributions)\n",
    "powerdens_nu = ((np.log(PowerDens_P90)+np.log(PowerDens_P10))/2)\n",
    "print(powerdens_nu)\n",
    "\n",
    "powerdens_sigma = (np.log(PowerDens_P10)-np.log(PowerDens_P90))/((norm.ppf(1-Opt_case)-(norm.ppf(Opt_case))))\n",
    "print(powerdens_sigma)"
   ]
  },
  {
   "cell_type": "code",
   "execution_count": 43,
   "metadata": {},
   "outputs": [
    {
     "name": "stdout",
     "output_type": "stream",
     "text": [
      "3.891612008168019\n",
      "0.9611009382722299\n"
     ]
    }
   ],
   "source": [
    "# Calculate nu and sigma for MWe Capacity\n",
    "capacity_nu = area_nu + powerdens_nu\n",
    "print(capacity_nu)\n",
    "\n",
    "capacity_sigma = ((area_sigma**2)+(powerdens_sigma**2))**0.5\n",
    "print(capacity_sigma)"
   ]
  },
  {
   "cell_type": "code",
   "execution_count": 127,
   "metadata": {},
   "outputs": [
    {
     "name": "stdout",
     "output_type": "stream",
     "text": [
      "0.1 0.4021240626097626 2.5132753913110157 99.9\n",
      "1 0.8379267606862624 5.237042254289139 99\n",
      "2 1.0889027517256613 6.8056421982853825 98\n",
      "3 1.2858217947566037 8.036386217228772 97\n",
      "4 1.4570946957014996 9.106841848134371 96\n",
      "5 1.6131038500461186 10.081899062788239 95\n",
      "6 1.7589836732072772 10.99364795754548 94\n",
      "7 1.8977071656626379 11.860669785391485 93\n",
      "8 2.0311760280371995 12.694850175232494 92\n",
      "9 2.1606943395726614 13.504339622329132 91\n",
      "10 2.2872040490442274 14.29502530652642 90\n",
      "11 2.4114138070749194 15.071336294218243 89\n",
      "12 2.5338747074621235 15.836716921638269 88\n",
      "13 2.655027396409587 16.593921227559914 87\n",
      "14 2.7752327354959765 17.34520459684985 86\n",
      "15 2.89479252364074 18.09245327275462 85\n",
      "16 3.0139639515407297 18.83727469712956 84\n",
      "17 3.1329699621433416 19.581062263395882 83\n",
      "18 3.2520068550501358 20.325042844063343 82\n",
      "19 3.3712499867457826 21.070312417161137 81\n",
      "20 3.4908581252917994 21.81786328307374 80\n",
      "21 3.610976835409984 22.568605221312396 79\n",
      "22 3.7317411527936466 23.323382204960286 78\n",
      "23 3.8532777295649887 24.082985809781174 77\n",
      "24 3.9757065811354773 24.84816613209673 76\n",
      "25 4.099142529335925 25.619640808349526 75\n",
      "26 4.223696412006363 26.39810257503976 74\n",
      "27 4.349476111753699 27.18422569846061 73\n",
      "28 4.476587444022871 27.97867152514294 72\n",
      "29 4.605134935485555 28.782093346784716 71\n",
      "30 4.7352225170242885 29.5951407314018 70\n",
      "31 4.866954150594491 30.418463441215565 69\n",
      "32 5.00043440550902 31.252715034431372 68\n",
      "33 5.13576899687843 32.09855623049018 67\n",
      "34 5.273065296820374 32.95665810512733 66\n",
      "35 5.4124328274559605 33.827705171599746 65\n",
      "36 5.553983743518264 34.712398396989144 64\n",
      "37 5.697833311521054 35.611458197006584 63\n",
      "38 5.84410039181049 36.525627448815555 62\n",
      "39 5.992907929402752 37.45567455876719 61\n",
      "40 6.144383459263592 38.40239662039744 60\n",
      "41 6.298659631588204 39.366622697426266 59\n",
      "42 6.455874762676741 40.349217266729624 58\n",
      "43 6.616173417162779 41.35108385726736 57\n",
      "44 6.779707027635935 42.37316892272458 56\n",
      "45 6.946634558106124 43.41646598816327 55\n",
      "46 7.117123218291381 44.482020114321124 54\n",
      "47 7.291349236383145 45.57093272739465 53\n",
      "48 7.469498698766933 46.68436686729332 52\n",
      "49 7.651768466171008 47.82355291356879 51\n",
      "50 7.838367176906176 48.98979485566359 50\n",
      "51 8.029516349276712 50.184477182979435 49\n",
      "52 8.225451596924788 51.40907248077991 48\n",
      "53 8.426423972866406 52.665149830415025 47\n",
      "54 8.63270146034511 53.954384127156935 46\n",
      "55 8.844570631444101 55.27856644652562 45\n",
      "56 9.06233849774834 56.63961561092712 44\n",
      "57 9.286334581348907 58.03959113343066 43\n",
      "58 9.516913239271972 59.48070774544981 42\n",
      "59 9.754456280170201 60.96535175106375 41\n",
      "60 9.999375919054982 62.49609949409362 40\n",
      "61 10.252118124251433 64.07573827657144 39\n",
      "62 10.513166420976917 65.70729013110572 38\n",
      "63 10.78304622842652 67.39403892766573 37\n",
      "64 11.062329822571625 69.13956139107265 36\n",
      "65 11.351642035782847 70.94776272364278 35\n",
      "66 11.651666827840733 72.82291767400457 34\n",
      "67 11.9631548921581 74.76971807598811 33\n",
      "68 12.286932497766824 76.79332811104263 32\n",
      "69 12.623911814023415 78.89944883764633 31\n",
      "70 12.975103024009575 81.09439390005983 30\n",
      "71 13.341628608222742 83.38517880139212 29\n",
      "72 13.724740277783388 85.77962673614616 28\n",
      "73 14.12583916347287 88.28649477170542 27\n",
      "74 14.5465000337973 90.9156252112331 26\n",
      "75 14.988500536465509 93.67812835290941 25\n",
      "76 15.453856753798112 96.58660471123818 24\n",
      "77 15.944866763324711 99.65541727077942 23\n",
      "78 16.464164443454244 102.901027771589 22\n",
      "79 17.014786524661908 106.3424157791369 21\n",
      "80 17.6002569554053 110.00160597128311 20\n",
      "81 18.224694176211838 113.90433860132396 19\n",
      "82 18.892949104516227 118.08093190322639 18\n",
      "83 19.610784891779645 122.56740557362276 17\n",
      "84 20.385114416710966 127.40696510444351 16\n",
      "85 21.224319013622384 132.65199383513988 15\n",
      "86 22.13868379907958 138.36677374424735 14\n",
      "87 23.141004150497977 144.63127594061234 13\n",
      "88 24.24744989129203 151.54656182057516 12\n",
      "89 25.478828983951022 159.24268114969385 11\n",
      "90 26.862491794588472 167.89057371617793 10\n",
      "91 28.435303816342476 177.72064885214044 9\n",
      "92 30.248486173486317 189.05303858428945 8\n",
      "93 32.375911896052 202.34944935032496 7\n",
      "94 34.929261104494664 218.3078819030916 6\n",
      "95 38.088062339100794 238.0503896193799 5\n",
      "96 42.166099554991895 263.5381222186993 4\n",
      "97 47.78267116838707 298.6416948024191 3\n",
      "98 56.42377145491802 352.64857159323753 2\n",
      "99 73.32383077213181 458.2739423258237 1\n"
     ]
    }
   ],
   "source": [
    "# Calculate cumulative confidence curve for expected power capacity (epc)\n",
    "\n",
    "prob = [0.1]\n",
    "expected_power_capacity=[]\n",
    "expected_development_size=[]\n",
    "prob_desc = []\n",
    "\n",
    "# Specify probability range\n",
    "for i in range(1,100):\n",
    "    prob.append(i)\n",
    "\n",
    "for j in prob:\n",
    "    # Calculate expected development size distribution\n",
    "    eds = lognorm.ppf(j/100, capacity_sigma, loc=0, scale=np.exp(capacity_nu))\n",
    "    expected_development_size.append(eds)\n",
    "    # Calculate power capacity distribution\n",
    "    epc = eds*POSexpl\n",
    "    expected_power_capacity.append(epc)\n",
    "    # Calculate 100-prob for plotting descending cumulative probability\n",
    "    desc = 100-j\n",
    "    prob_desc.append(desc)\n",
    "    # Print results\n",
    "    print(j, epc, eds, desc)"
   ]
  },
  {
   "cell_type": "code",
   "execution_count": 131,
   "metadata": {},
   "outputs": [
    {
     "data": {
      "text/plain": [
       "Text(0.5, 1.0, 'Cumulative Confidence in Power Capacity')"
      ]
     },
     "execution_count": 131,
     "metadata": {},
     "output_type": "execute_result"
    },
    {
     "data": {
      "image/png": "[encoded data removed]",
      "text/plain": [
       "<Figure size 432x288 with 1 Axes>"
      ]
     },
     "metadata": {
      "needs_background": "light"
     },
     "output_type": "display_data"
    }
   ],
   "source": [
    "# Plot power capacity cumulative distribution\n",
    "plt.plot(expected_power_capacity, prob_desc)\n",
    "plt.xlabel(\"Expected Power Capacity (MWe potential reserves)\")\n",
    "plt.ylabel(\"Cumulative Confidence %\")\n",
    "plt.title(\"Cumulative Confidence in Power Capacity\")"
   ]
  },
  {
   "cell_type": "code",
   "execution_count": 133,
   "metadata": {},
   "outputs": [
    {
     "data": {
      "text/plain": [
       "Text(0.5, 1.0, 'Cumulative Confidence in Developed Reservoir Size')"
      ]
     },
     "execution_count": 133,
     "metadata": {},
     "output_type": "execute_result"
    },
    {
     "data": {
      "image/png": "[encoded data removed]",
      "text/plain": [
       "<Figure size 432x288 with 1 Axes>"
      ]
     },
     "metadata": {
      "needs_background": "light"
     },
     "output_type": "display_data"
    }
   ],
   "source": [
    "# Plot expected development size cumulative distribution\n",
    "plt.plot(expected_development_size, prob_desc)\n",
    "plt.xlabel(\"Expected Development Size (MW)\")\n",
    "plt.ylabel(\"Cumulative Confidence %\")\n",
    "plt.title(\"Cumulative Confidence in Developed Reservoir Size\")"
   ]
  },
  {
   "cell_type": "code",
   "execution_count": null,
   "metadata": {},
   "outputs": [],
   "source": []
  }
 ],
 "metadata": {
  "kernelspec": {
   "display_name": "Python 3",
   "language": "python",
   "name": "python3"
  },
  "language_info": {
   "codemirror_mode": {
    "name": "ipython",
    "version": 3
   },
   "file_extension": ".py",
   "mimetype": "text/x-python",
   "name": "python",
   "nbconvert_exporter": "python",
   "pygments_lexer": "ipython3",
   "version": "3.8.5"
  }
 },
 "nbformat": 4,
 "nbformat_minor": 4
}
